{
 "cells": [
  {
   "cell_type": "code",
   "execution_count": 2,
   "id": "875c97b4",
   "metadata": {},
   "outputs": [
    {
     "name": "stdout",
     "output_type": "stream",
     "text": [
      "This is test file\n"
     ]
    }
   ],
   "source": [
    "print(\"This is test file\")"
   ]
  },
  {
   "cell_type": "code",
   "execution_count": 3,
   "id": "42fa1637",
   "metadata": {},
   "outputs": [
    {
     "name": "stdout",
     "output_type": "stream",
     "text": [
      "The Zen of Python, by Tim Peters\n",
      "\n",
      "Beautiful is better than ugly.\n",
      "Explicit is better than implicit.\n",
      "Simple is better than complex.\n",
      "Complex is better than complicated.\n",
      "Flat is better than nested.\n",
      "Sparse is better than dense.\n",
      "Readability counts.\n",
      "Special cases aren't special enough to break the rules.\n",
      "Although practicality beats purity.\n",
      "Errors should never pass silently.\n",
      "Unless explicitly silenced.\n",
      "In the face of ambiguity, refuse the temptation to guess.\n",
      "There should be one-- and preferably only one --obvious way to do it.\n",
      "Although that way may not be obvious at first unless you're Dutch.\n",
      "Now is better than never.\n",
      "Although never is often better than *right* now.\n",
      "If the implementation is hard to explain, it's a bad idea.\n",
      "If the implementation is easy to explain, it may be a good idea.\n",
      "Namespaces are one honking great idea -- let's do more of those!\n"
     ]
    }
   ],
   "source": [
    "import this\n"
   ]
  },
  {
   "cell_type": "code",
   "execution_count": 5,
   "id": "e8e8b14f",
   "metadata": {},
   "outputs": [],
   "source": [
    "d = 5+ 6j"
   ]
  },
  {
   "cell_type": "code",
   "execution_count": 7,
   "id": "a05c987d",
   "metadata": {},
   "outputs": [],
   "source": [
    "e = 12 + 8j"
   ]
  },
  {
   "cell_type": "code",
   "execution_count": 8,
   "id": "dbc2b3a1",
   "metadata": {},
   "outputs": [
    {
     "name": "stdout",
     "output_type": "stream",
     "text": [
      "(17+14j)\n"
     ]
    }
   ],
   "source": [
    "print(d+e\n",
    "     )"
   ]
  },
  {
   "cell_type": "code",
   "execution_count": 9,
   "id": "0fbc2ae8",
   "metadata": {},
   "outputs": [
    {
     "data": {
      "text/plain": [
       "complex"
      ]
     },
     "execution_count": 9,
     "metadata": {},
     "output_type": "execute_result"
    }
   ],
   "source": [
    "type(e)"
   ]
  },
  {
   "cell_type": "code",
   "execution_count": 12,
   "id": "ac25cbb6",
   "metadata": {},
   "outputs": [],
   "source": [
    "k= e.conjugate()"
   ]
  },
  {
   "cell_type": "code",
   "execution_count": 14,
   "id": "698cbdc9",
   "metadata": {},
   "outputs": [
    {
     "data": {
      "text/plain": [
       "(12-8j)"
      ]
     },
     "execution_count": 14,
     "metadata": {},
     "output_type": "execute_result"
    }
   ],
   "source": [
    "k"
   ]
  },
  {
   "cell_type": "code",
   "execution_count": 16,
   "id": "95a757b8",
   "metadata": {},
   "outputs": [],
   "source": [
    "def test():\n",
    "    pass"
   ]
  },
  {
   "cell_type": "code",
   "execution_count": 28,
   "id": "eaf0a124",
   "metadata": {},
   "outputs": [],
   "source": [
    "def test1():\n",
    "    print(\"here....\")\n",
    "\n",
    "def test2():\n",
    "    print(\"here....\")\n",
    "    return 1\n",
    "    "
   ]
  },
  {
   "cell_type": "code",
   "execution_count": 18,
   "id": "a22a97b8",
   "metadata": {},
   "outputs": [
    {
     "name": "stdout",
     "output_type": "stream",
     "text": [
      "here....\n"
     ]
    }
   ],
   "source": [
    "test1()"
   ]
  },
  {
   "cell_type": "code",
   "execution_count": 29,
   "id": "7e531b06",
   "metadata": {},
   "outputs": [
    {
     "name": "stdout",
     "output_type": "stream",
     "text": [
      "here....\n",
      "here....\n"
     ]
    }
   ],
   "source": [
    "b = test1()\n",
    "c = test2()"
   ]
  },
  {
   "cell_type": "code",
   "execution_count": 30,
   "id": "50cdb14b",
   "metadata": {},
   "outputs": [
    {
     "name": "stdout",
     "output_type": "stream",
     "text": [
      "None\n",
      "1\n"
     ]
    }
   ],
   "source": [
    "print(b)\n",
    "print(c)"
   ]
  },
  {
   "cell_type": "code",
   "execution_count": 33,
   "id": "6bc17ffe",
   "metadata": {},
   "outputs": [
    {
     "data": {
      "text/plain": [
       "NoneType"
      ]
     },
     "execution_count": 33,
     "metadata": {},
     "output_type": "execute_result"
    }
   ],
   "source": [
    "type(b)\n"
   ]
  },
  {
   "cell_type": "code",
   "execution_count": 35,
   "id": "aa95621b",
   "metadata": {},
   "outputs": [
    {
     "data": {
      "text/plain": [
       "int"
      ]
     },
     "execution_count": 35,
     "metadata": {},
     "output_type": "execute_result"
    }
   ],
   "source": [
    "type(c)"
   ]
  },
  {
   "cell_type": "markdown",
   "id": "44fc294a",
   "metadata": {},
   "source": [
    "# this is a comment"
   ]
  },
  {
   "cell_type": "code",
   "execution_count": 39,
   "id": "c00c161b",
   "metadata": {},
   "outputs": [],
   "source": [
    "def testDoc():\n",
    "    \"\"\"This is a function to test docstring asbdkjsn \n",
    "    fsndlkjfmsd nisdjfs\"\"\"\n",
    "    return 1 + 2"
   ]
  },
  {
   "cell_type": "code",
   "execution_count": 37,
   "id": "aeb34a89",
   "metadata": {},
   "outputs": [
    {
     "data": {
      "text/plain": [
       "3"
      ]
     },
     "execution_count": 37,
     "metadata": {},
     "output_type": "execute_result"
    }
   ],
   "source": [
    "testDoc()"
   ]
  },
  {
   "cell_type": "markdown",
   "id": "75916f2b",
   "metadata": {},
   "source": [
    "Shift TAB TAB for function signature"
   ]
  },
  {
   "cell_type": "markdown",
   "id": "51f26b56",
   "metadata": {},
   "source": [
    "Ctrl + ] indent. Ctrl + [ dedent. Ctrl + A select all.\n"
   ]
  },
  {
   "cell_type": "markdown",
   "id": "1148adbb",
   "metadata": {},
   "source": [
    "#TEST QUESTIONS"
   ]
  },
  {
   "cell_type": "markdown",
   "id": "e7e1e274",
   "metadata": {},
   "source": [
    "Write a fucntion which willtry to find out len of a string without using and inbuilt len function"
   ]
  },
  {
   "cell_type": "code",
   "execution_count": 40,
   "id": "82c28a72",
   "metadata": {},
   "outputs": [],
   "source": [
    "def findLength(myStr):\n",
    "    \"\"\"Find the length of a string without using a length function\"\"\"\n",
    "    count =0\n",
    "    for i in myStr:\n",
    "        count= count + 1\n",
    "    return count"
   ]
  },
  {
   "cell_type": "code",
   "execution_count": 43,
   "id": "74dac8ae",
   "metadata": {},
   "outputs": [
    {
     "name": "stdout",
     "output_type": "stream",
     "text": [
      "0\n"
     ]
    }
   ],
   "source": [
    "print(findLength(\"\"))"
   ]
  },
  {
   "cell_type": "markdown",
   "id": "40d1a0ff",
   "metadata": {},
   "source": [
    "Write a function which will be able to print the index of list element without using index function"
   ]
  },
  {
   "cell_type": "code",
   "execution_count": 68,
   "id": "c12f867c",
   "metadata": {},
   "outputs": [],
   "source": [
    "def findIndex(myList,element):\n",
    "    \"\"\"Returns the index of an element in the list\"\"\"\n",
    "    \n",
    "    for i in range(0,len(myList)):\n",
    "        if(str(myList[i])==str(element)):\n",
    "            return i\n",
    "    return -1"
   ]
  },
  {
   "cell_type": "code",
   "execution_count": 70,
   "id": "9bb4437f",
   "metadata": {},
   "outputs": [
    {
     "data": {
      "text/plain": [
       "3"
      ]
     },
     "execution_count": 70,
     "metadata": {},
     "output_type": "execute_result"
    }
   ],
   "source": [
    "findIndex([2,3,1,\"a\"],\"a\")"
   ]
  },
  {
   "cell_type": "markdown",
   "id": "c5e1430c",
   "metadata": {},
   "source": [
    "Write a function which will be able to print an ip address of your system"
   ]
  },
  {
   "cell_type": "code",
   "execution_count": null,
   "id": "893364d5",
   "metadata": {},
   "outputs": [],
   "source": [
    "def "
   ]
  },
  {
   "cell_type": "markdown",
   "id": "e2cc2b9c",
   "metadata": {},
   "source": [
    "Write a function to shut down your system"
   ]
  },
  {
   "cell_type": "code",
   "execution_count": null,
   "id": "cec49b2e",
   "metadata": {},
   "outputs": [],
   "source": []
  },
  {
   "cell_type": "markdown",
   "id": "f6ff5bb7",
   "metadata": {},
   "source": [
    "WAP to input a list with any kind of numeric value and give out as a multiplication of all numerical data-[3.5,6.56,\"ani\"]"
   ]
  },
  {
   "cell_type": "code",
   "execution_count": null,
   "id": "debde837",
   "metadata": {},
   "outputs": [],
   "source": []
  },
  {
   "cell_type": "markdown",
   "id": "5b51b390",
   "metadata": {},
   "source": [
    "WAP to read all mails  "
   ]
  },
  {
   "cell_type": "markdown",
   "id": "c31eb72a",
   "metadata": {},
   "source": [
    "WAP to send a mail to a sender"
   ]
  },
  {
   "cell_type": "markdown",
   "id": "32c5dcc2",
   "metadata": {},
   "source": [
    "WAP to read a doc file from you system"
   ]
  }
 ],
 "metadata": {
  "kernelspec": {
   "display_name": "Python 3",
   "language": "python",
   "name": "python3"
  },
  "language_info": {
   "codemirror_mode": {
    "name": "ipython",
    "version": 3
   },
   "file_extension": ".py",
   "mimetype": "text/x-python",
   "name": "python",
   "nbconvert_exporter": "python",
   "pygments_lexer": "ipython3",
   "version": "3.6.5"
  }
 },
 "nbformat": 4,
 "nbformat_minor": 5
}
