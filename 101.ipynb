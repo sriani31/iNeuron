{
 "cells": [
  {
   "cell_type": "code",
   "execution_count": 2,
   "id": "3f8d2621",
   "metadata": {},
   "outputs": [
    {
     "name": "stdout",
     "output_type": "stream",
     "text": [
      "This is test file\n"
     ]
    }
   ],
   "source": [
    "print(\"This is test file\")"
   ]
  },
  {
   "cell_type": "code",
   "execution_count": 3,
   "id": "df044968",
   "metadata": {},
   "outputs": [
    {
     "name": "stdout",
     "output_type": "stream",
     "text": [
      "The Zen of Python, by Tim Peters\n",
      "\n",
      "Beautiful is better than ugly.\n",
      "Explicit is better than implicit.\n",
      "Simple is better than complex.\n",
      "Complex is better than complicated.\n",
      "Flat is better than nested.\n",
      "Sparse is better than dense.\n",
      "Readability counts.\n",
      "Special cases aren't special enough to break the rules.\n",
      "Although practicality beats purity.\n",
      "Errors should never pass silently.\n",
      "Unless explicitly silenced.\n",
      "In the face of ambiguity, refuse the temptation to guess.\n",
      "There should be one-- and preferably only one --obvious way to do it.\n",
      "Although that way may not be obvious at first unless you're Dutch.\n",
      "Now is better than never.\n",
      "Although never is often better than *right* now.\n",
      "If the implementation is hard to explain, it's a bad idea.\n",
      "If the implementation is easy to explain, it may be a good idea.\n",
      "Namespaces are one honking great idea -- let's do more of those!\n"
     ]
    }
   ],
   "source": [
    "import this\n"
   ]
  },
  {
   "cell_type": "code",
   "execution_count": 5,
   "id": "188daafe",
   "metadata": {},
   "outputs": [],
   "source": [
    "d = 5+ 6j"
   ]
  },
  {
   "cell_type": "code",
   "execution_count": 7,
   "id": "084469bd",
   "metadata": {},
   "outputs": [],
   "source": [
    "e = 12 + 8j"
   ]
  },
  {
   "cell_type": "code",
   "execution_count": 159,
   "id": "d9695ae4",
   "metadata": {},
   "outputs": [
    {
     "name": "stdout",
     "output_type": "stream",
     "text": [
      "(17+14j)\n"
     ]
    }
   ],
   "source": [
    "print(d+e)"
   ]
  },
  {
   "cell_type": "code",
   "execution_count": 9,
   "id": "4c3405d6",
   "metadata": {},
   "outputs": [
    {
     "data": {
      "text/plain": [
       "complex"
      ]
     },
     "execution_count": 9,
     "metadata": {},
     "output_type": "execute_result"
    }
   ],
   "source": [
    "type(e)"
   ]
  },
  {
   "cell_type": "code",
   "execution_count": 12,
   "id": "5a1f82c2",
   "metadata": {},
   "outputs": [],
   "source": [
    "k= e.conjugate()"
   ]
  },
  {
   "cell_type": "code",
   "execution_count": 14,
   "id": "34f3f4e0",
   "metadata": {},
   "outputs": [
    {
     "data": {
      "text/plain": [
       "(12-8j)"
      ]
     },
     "execution_count": 14,
     "metadata": {},
     "output_type": "execute_result"
    }
   ],
   "source": [
    "k"
   ]
  },
  {
   "cell_type": "code",
   "execution_count": 16,
   "id": "c055a53f",
   "metadata": {},
   "outputs": [],
   "source": [
    "def test():\n",
    "    pass"
   ]
  },
  {
   "cell_type": "code",
   "execution_count": 28,
   "id": "e8306483",
   "metadata": {},
   "outputs": [],
   "source": [
    "def test1():\n",
    "    print(\"here....\")\n",
    "\n",
    "def test2():\n",
    "    print(\"here....\")\n",
    "    return 1\n",
    "    "
   ]
  },
  {
   "cell_type": "code",
   "execution_count": 18,
   "id": "12f4e648",
   "metadata": {},
   "outputs": [
    {
     "name": "stdout",
     "output_type": "stream",
     "text": [
      "here....\n"
     ]
    }
   ],
   "source": [
    "test1()"
   ]
  },
  {
   "cell_type": "code",
   "execution_count": 29,
   "id": "ccd91fd7",
   "metadata": {},
   "outputs": [
    {
     "name": "stdout",
     "output_type": "stream",
     "text": [
      "here....\n",
      "here....\n"
     ]
    }
   ],
   "source": [
    "b = test1()\n",
    "c = test2()"
   ]
  },
  {
   "cell_type": "code",
   "execution_count": 30,
   "id": "c31a9e1a",
   "metadata": {},
   "outputs": [
    {
     "name": "stdout",
     "output_type": "stream",
     "text": [
      "None\n",
      "1\n"
     ]
    }
   ],
   "source": [
    "print(b)\n",
    "print(c)"
   ]
  },
  {
   "cell_type": "code",
   "execution_count": 33,
   "id": "d611c363",
   "metadata": {},
   "outputs": [
    {
     "data": {
      "text/plain": [
       "NoneType"
      ]
     },
     "execution_count": 33,
     "metadata": {},
     "output_type": "execute_result"
    }
   ],
   "source": [
    "type(b)\n"
   ]
  },
  {
   "cell_type": "code",
   "execution_count": 35,
   "id": "4c35ab2d",
   "metadata": {},
   "outputs": [
    {
     "data": {
      "text/plain": [
       "int"
      ]
     },
     "execution_count": 35,
     "metadata": {},
     "output_type": "execute_result"
    }
   ],
   "source": [
    "type(c)"
   ]
  },
  {
   "cell_type": "markdown",
   "id": "a4a04453",
   "metadata": {},
   "source": [
    "# this is a comment"
   ]
  },
  {
   "cell_type": "code",
   "execution_count": 39,
   "id": "3516cd31",
   "metadata": {},
   "outputs": [],
   "source": [
    "def testDoc():\n",
    "    \"\"\"This is a function to test docstring asbdkjsn \n",
    "    fsndlkjfmsd nisdjfs\"\"\"\n",
    "    return 1 + 2"
   ]
  },
  {
   "cell_type": "code",
   "execution_count": 37,
   "id": "ee07b446",
   "metadata": {},
   "outputs": [
    {
     "data": {
      "text/plain": [
       "3"
      ]
     },
     "execution_count": 37,
     "metadata": {},
     "output_type": "execute_result"
    }
   ],
   "source": [
    "testDoc()"
   ]
  },
  {
   "cell_type": "markdown",
   "id": "250c6d5d",
   "metadata": {},
   "source": [
    "Shift TAB TAB for function signature"
   ]
  },
  {
   "cell_type": "markdown",
   "id": "17cad8b8",
   "metadata": {},
   "source": [
    "Ctrl + ] indent. Ctrl + [ dedent. Ctrl + A select all.\n"
   ]
  },
  {
   "cell_type": "markdown",
   "id": "668b6564",
   "metadata": {},
   "source": [
    "#TEST QUESTIONS"
   ]
  },
  {
   "cell_type": "markdown",
   "id": "a12afd00",
   "metadata": {},
   "source": [
    "Write a fucntion which willtry to find out len of a string without using and inbuilt len function"
   ]
  },
  {
   "cell_type": "code",
   "execution_count": 40,
   "id": "a98143d1",
   "metadata": {},
   "outputs": [],
   "source": [
    "def findLength(myStr):\n",
    "    \"\"\"Find the length of a string without using a length function\"\"\"\n",
    "    count =0\n",
    "    for i in myStr:\n",
    "        count= count + 1\n",
    "    return count"
   ]
  },
  {
   "cell_type": "code",
   "execution_count": 43,
   "id": "78be3705",
   "metadata": {},
   "outputs": [
    {
     "name": "stdout",
     "output_type": "stream",
     "text": [
      "0\n"
     ]
    }
   ],
   "source": [
    "print(findLength(\"\"))"
   ]
  },
  {
   "cell_type": "markdown",
   "id": "56f91883",
   "metadata": {},
   "source": [
    "Write a function which will be able to print the index of list element without using index function"
   ]
  },
  {
   "cell_type": "code",
   "execution_count": 68,
   "id": "86b88bb4",
   "metadata": {},
   "outputs": [],
   "source": [
    "def findIndex(myList,element):\n",
    "    \"\"\"Returns the index of an element in the list\"\"\"\n",
    "    \n",
    "    for i in range(0,len(myList)):\n",
    "        if(str(myList[i])==str(element)):\n",
    "            return i\n",
    "    return -1"
   ]
  },
  {
   "cell_type": "code",
   "execution_count": 70,
   "id": "df876e77",
   "metadata": {},
   "outputs": [
    {
     "data": {
      "text/plain": [
       "3"
      ]
     },
     "execution_count": 70,
     "metadata": {},
     "output_type": "execute_result"
    }
   ],
   "source": [
    "findIndex([2,3,1,\"a\"],\"a\")"
   ]
  },
  {
   "cell_type": "markdown",
   "id": "7017dc73",
   "metadata": {},
   "source": [
    "Write a function which will be able to print an ip address of your system"
   ]
  },
  {
   "cell_type": "code",
   "execution_count": 72,
   "id": "76f67eba",
   "metadata": {},
   "outputs": [
    {
     "data": {
      "text/plain": [
       "'127.0.0.1'"
      ]
     },
     "execution_count": 72,
     "metadata": {},
     "output_type": "execute_result"
    }
   ],
   "source": [
    "import socket\n",
    "socket.gethostbyname(socket.gethostname())"
   ]
  },
  {
   "cell_type": "markdown",
   "id": "45143a97",
   "metadata": {},
   "source": [
    "Write a function to shut down your system"
   ]
  },
  {
   "cell_type": "code",
   "execution_count": null,
   "id": "fd0a1a58",
   "metadata": {},
   "outputs": [],
   "source": []
  },
  {
   "cell_type": "markdown",
   "id": "3352e976",
   "metadata": {},
   "source": [
    "WAP to input a list with any kind of numeric value and give out as a multiplication of all numerical data-[3.5,6.56,\"ani\"]"
   ]
  },
  {
   "cell_type": "code",
   "execution_count": null,
   "id": "c83b5841",
   "metadata": {},
   "outputs": [],
   "source": []
  },
  {
   "cell_type": "markdown",
   "id": "eb566803",
   "metadata": {},
   "source": [
    "WAP to read all mails  "
   ]
  },
  {
   "cell_type": "markdown",
   "id": "6f8e04de",
   "metadata": {},
   "source": [
    "WAP to send a mail to a sender"
   ]
  },
  {
   "cell_type": "markdown",
   "id": "0725b4bf",
   "metadata": {},
   "source": [
    "WAP to read a doc file from you system"
   ]
  },
  {
   "cell_type": "markdown",
   "id": "5e8fd956",
   "metadata": {},
   "source": [
    "DECORATORS"
   ]
  },
  {
   "cell_type": "markdown",
   "id": "d9530fd6",
   "metadata": {},
   "source": [
    "Multiple decorator can be used - will be called in sequence "
   ]
  },
  {
   "cell_type": "markdown",
   "id": "2a016e2e",
   "metadata": {},
   "source": [
    "Trying to decorate test22 "
   ]
  },
  {
   "cell_type": "code",
   "execution_count": 80,
   "id": "46cbce2e",
   "metadata": {},
   "outputs": [],
   "source": [
    "import os\n",
    "def test20(func):\n",
    "    def test21():\n",
    "        func()\n",
    "        print(os.getcwd())\n",
    "    return test21"
   ]
  },
  {
   "cell_type": "code",
   "execution_count": 81,
   "id": "a91c121f",
   "metadata": {},
   "outputs": [],
   "source": [
    "def test18(func):\n",
    "    def test19():\n",
    "        print(\"Inside test 19 and this will behave as a decorator to any function that i am going to call\")\n",
    "        func()\n",
    "        print(os.getcwd())\n",
    "    return test19"
   ]
  },
  {
   "cell_type": "code",
   "execution_count": 82,
   "id": "daeb79f2",
   "metadata": {},
   "outputs": [],
   "source": [
    "@test18\n",
    "@test20\n",
    "def test22():\n",
    "    print(\"this will print inside test 22\")"
   ]
  },
  {
   "cell_type": "code",
   "execution_count": 83,
   "id": "ec3e90d6",
   "metadata": {},
   "outputs": [
    {
     "name": "stdout",
     "output_type": "stream",
     "text": [
      "Inside test 19 and this will behave as a decorator to any function that i am going to call\n",
      "this will print inside test 22\n",
      "/Users/animeshsrivastava/Downloads/iNeuron\n",
      "/Users/animeshsrivastava/Downloads/iNeuron\n"
     ]
    }
   ],
   "source": [
    "test22()"
   ]
  },
  {
   "cell_type": "code",
   "execution_count": 84,
   "id": "4391b677",
   "metadata": {},
   "outputs": [
    {
     "name": "stdout",
     "output_type": "stream",
     "text": [
      "hello\n",
      "0.00023818016052246094\n"
     ]
    }
   ],
   "source": [
    "import time \n",
    "start = time.time()\n",
    "print(\"hello\")\n",
    "end = time.time()\n",
    "print(end - start)"
   ]
  },
  {
   "cell_type": "markdown",
   "id": "dc8313af",
   "metadata": {},
   "source": [
    "Can you create a decorator so that without doing the above line , we can get the execution time of function"
   ]
  },
  {
   "cell_type": "code",
   "execution_count": 85,
   "id": "bbeef15c",
   "metadata": {},
   "outputs": [],
   "source": [
    "def test25(func) :\n",
    "    def test26():\n",
    "        print(\"this will give you execution time of a function\")\n",
    "        start = time.time()\n",
    "        func()\n",
    "        end = time.time()\n",
    "        print(end - start)\n",
    "    return test26"
   ]
  },
  {
   "cell_type": "code",
   "execution_count": 124,
   "id": "dc148075",
   "metadata": {},
   "outputs": [],
   "source": [
    "@test25\n",
    "def test27():\n",
    "    \"\"\"Function helps append list if integer\"\"\"\n",
    "    ls = [4,5,6,7,8]\n",
    "    ls1 = []\n",
    "    for i in ls:\n",
    "        if type(i) == int :\n",
    "            ls1.append(i)\n",
    "    return ls1"
   ]
  },
  {
   "cell_type": "code",
   "execution_count": 126,
   "id": "7510de35",
   "metadata": {},
   "outputs": [
    {
     "name": "stdout",
     "output_type": "stream",
     "text": [
      "this will give you execution time of a function\n",
      "6.9141387939453125e-06\n"
     ]
    }
   ],
   "source": [
    "test27()"
   ]
  },
  {
   "cell_type": "code",
   "execution_count": 104,
   "id": "013aae2d",
   "metadata": {},
   "outputs": [
    {
     "name": "stdout",
     "output_type": "stream",
     "text": [
      "this will give you execution time of a function\n",
      "4.0531158447265625e-06\n"
     ]
    }
   ],
   "source": [
    "test27()"
   ]
  },
  {
   "cell_type": "markdown",
   "id": "0d91dfe2",
   "metadata": {},
   "source": [
    "for every such task we can create decorators without rewriting the code , why connect with DB or logging function "
   ]
  },
  {
   "cell_type": "markdown",
   "id": "8766272d",
   "metadata": {},
   "source": [
    "it can be available in any other package and you can call them\n"
   ]
  },
  {
   "cell_type": "markdown",
   "id": "999cc4ba",
   "metadata": {},
   "source": [
    "how do decorators work with arguments"
   ]
  },
  {
   "cell_type": "markdown",
   "id": "734677d8",
   "metadata": {},
   "source": [
    "NOV 13th Lab"
   ]
  },
  {
   "cell_type": "code",
   "execution_count": 155,
   "id": "e009ef6d",
   "metadata": {},
   "outputs": [],
   "source": [
    "def test1(func):\n",
    "    def test2():\n",
    "        print(\"i am inside test2\")\n",
    "        #a = func()\n",
    "        func()\n",
    "        print(func())\n",
    "        print(\"executed the function\")\n",
    "        #return a\n",
    "    return test2"
   ]
  },
  {
   "cell_type": "code",
   "execution_count": 147,
   "id": "0cf51817",
   "metadata": {},
   "outputs": [],
   "source": [
    "@test1\n",
    "def test3():\n",
    "    print(\"inside test 3 \")\n",
    "    "
   ]
  },
  {
   "cell_type": "code",
   "execution_count": 148,
   "id": "d734e825",
   "metadata": {},
   "outputs": [
    {
     "name": "stdout",
     "output_type": "stream",
     "text": [
      "i am inside test2\n",
      "inside test 3 \n",
      "inside test 3 \n",
      "None\n",
      "executed the function\n"
     ]
    }
   ],
   "source": [
    "test3()"
   ]
  },
  {
   "cell_type": "code",
   "execution_count": 139,
   "id": "b8cc68ed",
   "metadata": {},
   "outputs": [
    {
     "name": "stdout",
     "output_type": "stream",
     "text": [
      "i am inside test2\n",
      "inside test 3 \n",
      "executed the function\n"
     ]
    },
    {
     "data": {
      "text/plain": [
       "<function __main__.test1.<locals>.test2()>"
      ]
     },
     "execution_count": 139,
     "metadata": {},
     "output_type": "execute_result"
    }
   ],
   "source": [
    "test1(test3())"
   ]
  },
  {
   "cell_type": "code",
   "execution_count": 156,
   "id": "8eb87d6c",
   "metadata": {},
   "outputs": [],
   "source": [
    "@test1\n",
    "def test4():\n",
    "    return 5+6\n"
   ]
  },
  {
   "cell_type": "code",
   "execution_count": 145,
   "id": "a82a033d",
   "metadata": {},
   "outputs": [
    {
     "name": "stdout",
     "output_type": "stream",
     "text": [
      "i am inside test2\n",
      "11\n",
      "executed the function\n"
     ]
    }
   ],
   "source": [
    "test4()"
   ]
  },
  {
   "cell_type": "code",
   "execution_count": 157,
   "id": "76eb1a9f",
   "metadata": {},
   "outputs": [
    {
     "name": "stdout",
     "output_type": "stream",
     "text": [
      "i am inside test2\n",
      "11\n",
      "executed the function\n"
     ]
    }
   ],
   "source": [
    "a = test4()"
   ]
  },
  {
   "cell_type": "code",
   "execution_count": 158,
   "id": "ca877175",
   "metadata": {},
   "outputs": [
    {
     "name": "stdout",
     "output_type": "stream",
     "text": [
      "None\n"
     ]
    }
   ],
   "source": [
    "print(a)"
   ]
  },
  {
   "cell_type": "markdown",
   "id": "ceea5a36",
   "metadata": {},
   "source": [
    "## Note we are getting None as a return value , although the function returns it. How do we solve it? ##"
   ]
  },
  {
   "cell_type": "markdown",
   "id": "5b68cb68",
   "metadata": {},
   "source": [
    "solved it my way - use return inside the test fucntion but lets look at the actual solution"
   ]
  },
  {
   "cell_type": "code",
   "execution_count": 166,
   "id": "bd84863e",
   "metadata": {},
   "outputs": [],
   "source": [
    "def test1(func):\n",
    "    def test2():\n",
    "        print(\"i am inside test2\")\n",
    "        \n",
    "        \n",
    "        print(\"executed the function\")\n",
    "        return func()\n",
    "    return test2"
   ]
  },
  {
   "cell_type": "code",
   "execution_count": 167,
   "id": "410e3685",
   "metadata": {},
   "outputs": [],
   "source": [
    "@test1\n",
    "def test4():\n",
    "    print(\"inside this ....\")\n",
    "    return 5+6"
   ]
  },
  {
   "cell_type": "code",
   "execution_count": 168,
   "id": "7369ef47",
   "metadata": {},
   "outputs": [
    {
     "name": "stdout",
     "output_type": "stream",
     "text": [
      "i am inside test2\n",
      "executed the function\n",
      "inside this ....\n"
     ]
    },
    {
     "data": {
      "text/plain": [
       "11"
      ]
     },
     "execution_count": 168,
     "metadata": {},
     "output_type": "execute_result"
    }
   ],
   "source": [
    "test4()"
   ]
  },
  {
   "cell_type": "code",
   "execution_count": 169,
   "id": "8aca3151",
   "metadata": {},
   "outputs": [
    {
     "name": "stdout",
     "output_type": "stream",
     "text": [
      "i am inside test2\n",
      "executed the function\n",
      "inside this ....\n"
     ]
    },
    {
     "data": {
      "text/plain": [
       "23"
      ]
     },
     "execution_count": 169,
     "metadata": {},
     "output_type": "execute_result"
    }
   ],
   "source": [
    "12 + test4()"
   ]
  },
  {
   "cell_type": "markdown",
   "id": "a7607eaa",
   "metadata": {},
   "source": [
    "## Now lets take an example of how arguments can be passed ##"
   ]
  },
  {
   "cell_type": "markdown",
   "id": "1388e9c6",
   "metadata": {},
   "source": [
    "lets take an example"
   ]
  },
  {
   "cell_type": "code",
   "execution_count": 176,
   "id": "87c1d1d1",
   "metadata": {},
   "outputs": [],
   "source": [
    "def deco(func):\n",
    "    def insideDeco():\n",
    "        print(\"Inside deco\")\n",
    "        return func()\n",
    "    return insideDeco"
   ]
  },
  {
   "cell_type": "code",
   "execution_count": 177,
   "id": "2bbf1272",
   "metadata": {},
   "outputs": [],
   "source": [
    "@deco\n",
    "def addn():\n",
    "    return 10+15"
   ]
  },
  {
   "cell_type": "code",
   "execution_count": 178,
   "id": "aeb6e215",
   "metadata": {},
   "outputs": [
    {
     "name": "stdout",
     "output_type": "stream",
     "text": [
      "Inside deco\n"
     ]
    }
   ],
   "source": [
    "a = addn()"
   ]
  },
  {
   "cell_type": "code",
   "execution_count": 179,
   "id": "8324e3cd",
   "metadata": {},
   "outputs": [
    {
     "name": "stdout",
     "output_type": "stream",
     "text": [
      "25\n"
     ]
    }
   ],
   "source": [
    "print(a)"
   ]
  },
  {
   "cell_type": "markdown",
   "id": "b73c2395",
   "metadata": {},
   "source": [
    "Lets parameterise this"
   ]
  },
  {
   "cell_type": "code",
   "execution_count": 180,
   "id": "7096e2f8",
   "metadata": {},
   "outputs": [],
   "source": [
    "@deco\n",
    "def addn(a,b):\n",
    "    return a+b\n",
    "    "
   ]
  },
  {
   "cell_type": "code",
   "execution_count": 181,
   "id": "c3e224c5",
   "metadata": {},
   "outputs": [
    {
     "ename": "TypeError",
     "evalue": "insideDeco() takes 0 positional arguments but 2 were given",
     "output_type": "error",
     "traceback": [
      "\u001b[0;31m---------------------------------------------------------------------------\u001b[0m",
      "\u001b[0;31mTypeError\u001b[0m                                 Traceback (most recent call last)",
      "\u001b[0;32m<ipython-input-181-319006b4d57a>\u001b[0m in \u001b[0;36m<module>\u001b[0;34m\u001b[0m\n\u001b[0;32m----> 1\u001b[0;31m \u001b[0maddn\u001b[0m\u001b[0;34m(\u001b[0m\u001b[0;36m10\u001b[0m\u001b[0;34m,\u001b[0m\u001b[0;36m5\u001b[0m\u001b[0;34m)\u001b[0m\u001b[0;34m\u001b[0m\u001b[0m\n\u001b[0m",
      "\u001b[0;31mTypeError\u001b[0m: insideDeco() takes 0 positional arguments but 2 were given"
     ]
    }
   ],
   "source": [
    "addn(10,5)"
   ]
  },
  {
   "cell_type": "markdown",
   "id": "97768a8f",
   "metadata": {},
   "source": [
    "Note the error , we havent passed any arguments - lets fix this "
   ]
  },
  {
   "cell_type": "code",
   "execution_count": 182,
   "id": "7e013fad",
   "metadata": {},
   "outputs": [],
   "source": [
    "def deco(func):\n",
    "    def insideDeco(a,b):\n",
    "        print(\"Inside deco\")\n",
    "        return func(a,b)\n",
    "    return insideDeco"
   ]
  },
  {
   "cell_type": "code",
   "execution_count": 183,
   "id": "5bf39eab",
   "metadata": {},
   "outputs": [],
   "source": [
    "@deco\n",
    "def addn(a,b):\n",
    "    return a+b"
   ]
  },
  {
   "cell_type": "code",
   "execution_count": 184,
   "id": "2827de37",
   "metadata": {},
   "outputs": [
    {
     "name": "stdout",
     "output_type": "stream",
     "text": [
      "Inside deco\n"
     ]
    },
    {
     "data": {
      "text/plain": [
       "15"
      ]
     },
     "execution_count": 184,
     "metadata": {},
     "output_type": "execute_result"
    }
   ],
   "source": [
    "addn(10,5)"
   ]
  },
  {
   "cell_type": "code",
   "execution_count": 185,
   "id": "330c9025",
   "metadata": {},
   "outputs": [
    {
     "name": "stdout",
     "output_type": "stream",
     "text": [
      "Inside deco\n"
     ]
    },
    {
     "data": {
      "text/plain": [
       "'sriani'"
      ]
     },
     "execution_count": 185,
     "metadata": {},
     "output_type": "execute_result"
    }
   ],
   "source": [
    "addn(\"sri\",\"ani\")"
   ]
  },
  {
   "cell_type": "markdown",
   "id": "6c6bb3a0",
   "metadata": {},
   "source": [
    "## Works now as we have passed arguments inside it  ##"
   ]
  },
  {
   "cell_type": "markdown",
   "id": "fb673659",
   "metadata": {},
   "source": [
    "Now if we have to add additional arguments in the function call , how will we do that - **we cannot change the decorator everytime**\n"
   ]
  },
  {
   "cell_type": "code",
   "execution_count": 188,
   "id": "07217e86",
   "metadata": {},
   "outputs": [],
   "source": [
    "def deco(func):\n",
    "    def insideDeco(*args):\n",
    "        print(\"Inside deco\")\n",
    "        return func(*args)\n",
    "    return insideDeco"
   ]
  },
  {
   "cell_type": "code",
   "execution_count": 202,
   "id": "67baa9b3",
   "metadata": {},
   "outputs": [],
   "source": [
    "@deco\n",
    "def addn(a,b,c):\n",
    "    return a+b+c"
   ]
  },
  {
   "cell_type": "code",
   "execution_count": 203,
   "id": "717e4f8b",
   "metadata": {},
   "outputs": [
    {
     "name": "stdout",
     "output_type": "stream",
     "text": [
      "Inside deco\n"
     ]
    },
    {
     "data": {
      "text/plain": [
       "'srianik'"
      ]
     },
     "execution_count": 203,
     "metadata": {},
     "output_type": "execute_result"
    }
   ],
   "source": [
    "addn(\"sri\",\"ani\",\"k\")"
   ]
  },
  {
   "cell_type": "markdown",
   "id": "ed5d2d6f",
   "metadata": {},
   "source": [
    "**Doubt** Do decorators always have unknown number of arguments passed to them or it is a case by case basis? How does it work in industry?"
   ]
  },
  {
   "cell_type": "code",
   "execution_count": 201,
   "id": "614a6f9f",
   "metadata": {},
   "outputs": [],
   "source": [
    "@deco\n",
    "def addn2(a,b):\n",
    "    return a+b"
   ]
  },
  {
   "cell_type": "code",
   "execution_count": 194,
   "id": "7f1da059",
   "metadata": {},
   "outputs": [
    {
     "name": "stdout",
     "output_type": "stream",
     "text": [
      "Inside deco\n"
     ]
    },
    {
     "data": {
      "text/plain": [
       "'sriani'"
      ]
     },
     "execution_count": 194,
     "metadata": {},
     "output_type": "execute_result"
    }
   ],
   "source": [
    "addn2(\"sri\",\"ani\")"
   ]
  },
  {
   "cell_type": "code",
   "execution_count": 200,
   "id": "6cf6c364",
   "metadata": {},
   "outputs": [],
   "source": [
    "@deco\n",
    "def addnkw(**kwargs):\n",
    "    return kwargs"
   ]
  },
  {
   "cell_type": "code",
   "execution_count": 198,
   "id": "a58488ff",
   "metadata": {},
   "outputs": [
    {
     "ename": "TypeError",
     "evalue": "insideDeco() got an unexpected keyword argument 'a'",
     "output_type": "error",
     "traceback": [
      "\u001b[0;31m---------------------------------------------------------------------------\u001b[0m",
      "\u001b[0;31mTypeError\u001b[0m                                 Traceback (most recent call last)",
      "\u001b[0;32m<ipython-input-198-a6261568e864>\u001b[0m in \u001b[0;36m<module>\u001b[0;34m\u001b[0m\n\u001b[0;32m----> 1\u001b[0;31m \u001b[0maddnkw\u001b[0m\u001b[0;34m(\u001b[0m\u001b[0ma\u001b[0m\u001b[0;34m=\u001b[0m\u001b[0;36m89\u001b[0m\u001b[0;34m,\u001b[0m \u001b[0mb\u001b[0m \u001b[0;34m=\u001b[0m\u001b[0;36m90\u001b[0m\u001b[0;34m)\u001b[0m\u001b[0;34m\u001b[0m\u001b[0m\n\u001b[0m",
      "\u001b[0;31mTypeError\u001b[0m: insideDeco() got an unexpected keyword argument 'a'"
     ]
    }
   ],
   "source": [
    "addnkw(a=89, b =90)"
   ]
  },
  {
   "cell_type": "code",
   "execution_count": 199,
   "id": "19eecde4",
   "metadata": {},
   "outputs": [],
   "source": [
    "def deco(func):\n",
    "    def insideDeco(*args, **kwargs):\n",
    "        print(\"Inside deco\")\n",
    "        return func(*args,**kwargs)\n",
    "    return insideDeco"
   ]
  },
  {
   "cell_type": "code",
   "execution_count": 204,
   "id": "558a726c",
   "metadata": {},
   "outputs": [
    {
     "name": "stdout",
     "output_type": "stream",
     "text": [
      "Inside deco\n"
     ]
    },
    {
     "data": {
      "text/plain": [
       "{'a': 89, 'b': 90}"
      ]
     },
     "execution_count": 204,
     "metadata": {},
     "output_type": "execute_result"
    }
   ],
   "source": [
    "addnkw(a=89, b =90)"
   ]
  }
 ],
 "metadata": {
  "kernelspec": {
   "display_name": "Python 3",
   "language": "python",
   "name": "python3"
  },
  "language_info": {
   "codemirror_mode": {
    "name": "ipython",
    "version": 3
   },
   "file_extension": ".py",
   "mimetype": "text/x-python",
   "name": "python",
   "nbconvert_exporter": "python",
   "pygments_lexer": "ipython3",
   "version": "3.6.5"
  }
 },
 "nbformat": 4,
 "nbformat_minor": 5
}
