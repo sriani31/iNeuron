{
 "cells": [
  {
   "cell_type": "code",
   "execution_count": 2,
   "id": "fc321f7c",
   "metadata": {},
   "outputs": [
    {
     "name": "stdout",
     "output_type": "stream",
     "text": [
      "This is test file\n"
     ]
    }
   ],
   "source": [
    "print(\"This is test file\")"
   ]
  },
  {
   "cell_type": "code",
   "execution_count": 3,
   "id": "c4d6150f",
   "metadata": {},
   "outputs": [
    {
     "name": "stdout",
     "output_type": "stream",
     "text": [
      "The Zen of Python, by Tim Peters\n",
      "\n",
      "Beautiful is better than ugly.\n",
      "Explicit is better than implicit.\n",
      "Simple is better than complex.\n",
      "Complex is better than complicated.\n",
      "Flat is better than nested.\n",
      "Sparse is better than dense.\n",
      "Readability counts.\n",
      "Special cases aren't special enough to break the rules.\n",
      "Although practicality beats purity.\n",
      "Errors should never pass silently.\n",
      "Unless explicitly silenced.\n",
      "In the face of ambiguity, refuse the temptation to guess.\n",
      "There should be one-- and preferably only one --obvious way to do it.\n",
      "Although that way may not be obvious at first unless you're Dutch.\n",
      "Now is better than never.\n",
      "Although never is often better than *right* now.\n",
      "If the implementation is hard to explain, it's a bad idea.\n",
      "If the implementation is easy to explain, it may be a good idea.\n",
      "Namespaces are one honking great idea -- let's do more of those!\n"
     ]
    }
   ],
   "source": [
    "import this\n"
   ]
  },
  {
   "cell_type": "code",
   "execution_count": 5,
   "id": "60381f34",
   "metadata": {},
   "outputs": [],
   "source": [
    "d = 5+ 6j"
   ]
  },
  {
   "cell_type": "code",
   "execution_count": 7,
   "id": "5de5f7f4",
   "metadata": {},
   "outputs": [],
   "source": [
    "e = 12 + 8j"
   ]
  },
  {
   "cell_type": "code",
   "execution_count": 8,
   "id": "488dedd7",
   "metadata": {},
   "outputs": [
    {
     "name": "stdout",
     "output_type": "stream",
     "text": [
      "(17+14j)\n"
     ]
    }
   ],
   "source": [
    "print(d+e\n",
    "     )"
   ]
  },
  {
   "cell_type": "code",
   "execution_count": 9,
   "id": "dd288023",
   "metadata": {},
   "outputs": [
    {
     "data": {
      "text/plain": [
       "complex"
      ]
     },
     "execution_count": 9,
     "metadata": {},
     "output_type": "execute_result"
    }
   ],
   "source": [
    "type(e)"
   ]
  },
  {
   "cell_type": "code",
   "execution_count": 12,
   "id": "21b63ac1",
   "metadata": {},
   "outputs": [],
   "source": [
    "k= e.conjugate()"
   ]
  },
  {
   "cell_type": "code",
   "execution_count": 14,
   "id": "682f3dbf",
   "metadata": {},
   "outputs": [
    {
     "data": {
      "text/plain": [
       "(12-8j)"
      ]
     },
     "execution_count": 14,
     "metadata": {},
     "output_type": "execute_result"
    }
   ],
   "source": [
    "k"
   ]
  },
  {
   "cell_type": "code",
   "execution_count": 16,
   "id": "499fca40",
   "metadata": {},
   "outputs": [],
   "source": [
    "def test():\n",
    "    pass"
   ]
  },
  {
   "cell_type": "code",
   "execution_count": 28,
   "id": "a69434cc",
   "metadata": {},
   "outputs": [],
   "source": [
    "def test1():\n",
    "    print(\"here....\")\n",
    "\n",
    "def test2():\n",
    "    print(\"here....\")\n",
    "    return 1\n",
    "    "
   ]
  },
  {
   "cell_type": "code",
   "execution_count": 18,
   "id": "b0654168",
   "metadata": {},
   "outputs": [
    {
     "name": "stdout",
     "output_type": "stream",
     "text": [
      "here....\n"
     ]
    }
   ],
   "source": [
    "test1()"
   ]
  },
  {
   "cell_type": "code",
   "execution_count": 29,
   "id": "b5dfbe1c",
   "metadata": {},
   "outputs": [
    {
     "name": "stdout",
     "output_type": "stream",
     "text": [
      "here....\n",
      "here....\n"
     ]
    }
   ],
   "source": [
    "b = test1()\n",
    "c = test2()"
   ]
  },
  {
   "cell_type": "code",
   "execution_count": 30,
   "id": "c6383c76",
   "metadata": {},
   "outputs": [
    {
     "name": "stdout",
     "output_type": "stream",
     "text": [
      "None\n",
      "1\n"
     ]
    }
   ],
   "source": [
    "print(b)\n",
    "print(c)"
   ]
  },
  {
   "cell_type": "code",
   "execution_count": 33,
   "id": "d8140ad1",
   "metadata": {},
   "outputs": [
    {
     "data": {
      "text/plain": [
       "NoneType"
      ]
     },
     "execution_count": 33,
     "metadata": {},
     "output_type": "execute_result"
    }
   ],
   "source": [
    "type(b)\n"
   ]
  },
  {
   "cell_type": "code",
   "execution_count": 35,
   "id": "49d13436",
   "metadata": {},
   "outputs": [
    {
     "data": {
      "text/plain": [
       "int"
      ]
     },
     "execution_count": 35,
     "metadata": {},
     "output_type": "execute_result"
    }
   ],
   "source": [
    "type(c)"
   ]
  },
  {
   "cell_type": "markdown",
   "id": "143d1043",
   "metadata": {},
   "source": [
    "# this is a comment"
   ]
  },
  {
   "cell_type": "code",
   "execution_count": 39,
   "id": "adb400dd",
   "metadata": {},
   "outputs": [],
   "source": [
    "def testDoc():\n",
    "    \"\"\"This is a function to test docstring asbdkjsn \n",
    "    fsndlkjfmsd nisdjfs\"\"\"\n",
    "    return 1 + 2"
   ]
  },
  {
   "cell_type": "code",
   "execution_count": 37,
   "id": "8ea301da",
   "metadata": {},
   "outputs": [
    {
     "data": {
      "text/plain": [
       "3"
      ]
     },
     "execution_count": 37,
     "metadata": {},
     "output_type": "execute_result"
    }
   ],
   "source": [
    "testDoc()"
   ]
  },
  {
   "cell_type": "markdown",
   "id": "f395a5c7",
   "metadata": {},
   "source": [
    "Shift TAB TAB for function signature"
   ]
  },
  {
   "cell_type": "markdown",
   "id": "956ca60f",
   "metadata": {},
   "source": [
    "Ctrl + ] indent. Ctrl + [ dedent. Ctrl + A select all.\n"
   ]
  },
  {
   "cell_type": "markdown",
   "id": "5f294d39",
   "metadata": {},
   "source": [
    "Write a fucntion which willtry to find out len of a string without using and inbuilt len function"
   ]
  },
  {
   "cell_type": "code",
   "execution_count": null,
   "id": "26f619bf",
   "metadata": {},
   "outputs": [],
   "source": [
    "def findLength(myStr):\n",
    "    \"\"\"Find the length of a string without using a length function\"\"\"\n",
    "    \n",
    "    for(i-0;;i++):\n",
    "        if(myStr[i]!=)"
   ]
  },
  {
   "cell_type": "markdown",
   "id": "d57967a0",
   "metadata": {},
   "source": [
    "Write a function which will be able to print the index of list element without using index function"
   ]
  },
  {
   "cell_type": "code",
   "execution_count": null,
   "id": "22cda6ab",
   "metadata": {},
   "outputs": [],
   "source": []
  },
  {
   "cell_type": "markdown",
   "id": "ed23ca01",
   "metadata": {},
   "source": [
    "Write a function which will be able to print an ip address of your system"
   ]
  },
  {
   "cell_type": "code",
   "execution_count": null,
   "id": "542a0601",
   "metadata": {},
   "outputs": [],
   "source": []
  },
  {
   "cell_type": "markdown",
   "id": "d874294b",
   "metadata": {},
   "source": [
    "Write a function to shut down your system"
   ]
  },
  {
   "cell_type": "code",
   "execution_count": null,
   "id": "cfabbf34",
   "metadata": {},
   "outputs": [],
   "source": []
  },
  {
   "cell_type": "markdown",
   "id": "99a04b9a",
   "metadata": {},
   "source": [
    "WAP to input a list with any kind of numeric value and give out as a multiplication of all numerical data-[3.5,6.56,\"ani\"]"
   ]
  },
  {
   "cell_type": "code",
   "execution_count": null,
   "id": "2d315f29",
   "metadata": {},
   "outputs": [],
   "source": []
  },
  {
   "cell_type": "markdown",
   "id": "96a00460",
   "metadata": {},
   "source": [
    "WAP to read all mails  "
   ]
  },
  {
   "cell_type": "markdown",
   "id": "c632cdca",
   "metadata": {},
   "source": [
    "WAP to send a m"
   ]
  }
 ],
 "metadata": {
  "kernelspec": {
   "display_name": "Python 3",
   "language": "python",
   "name": "python3"
  },
  "language_info": {
   "codemirror_mode": {
    "name": "ipython",
    "version": 3
   },
   "file_extension": ".py",
   "mimetype": "text/x-python",
   "name": "python",
   "nbconvert_exporter": "python",
   "pygments_lexer": "ipython3",
   "version": "3.6.5"
  }
 },
 "nbformat": 4,
 "nbformat_minor": 5
}
