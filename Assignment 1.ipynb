{
 "cells": [
  {
   "cell_type": "markdown",
   "id": "9a94a4f4",
   "metadata": {},
   "source": [
    "1. In the below elements which of them are values or an expression? eg:- values can be\n",
    "integer or string and expressions will be mathematical operators.\n",
    "*\n",
    "'hello';\n",
    "-87.8\n",
    "-\n",
    "/\n",
    "+\n",
    "6\n",
    "\n",
    "2. What is the difference between string and variable?\n",
    "\n",
    "3. Describe three different data types.\n",
    "\n",
    "4. What is an expression made up of? What do all expressions do?\n",
    "5. This assignment statements, like spam = 10. What is the difference between an\n",
    "expression and a statement?\n",
    "6. After running the following code, what does the variable bacon contain?\n",
    "bacon = 22\n",
    "bacon + 1\n",
    "\n",
    "7. What should the values of the following two terms be?\n",
    "&#39;spam&#39; + &#39;spamspam&#39;\n",
    "&#39;spam&#39; * 3\n",
    "\n",
    "8. Why is eggs a valid variable name while 100 is invalid?\n",
    "\n",
    "9. What three functions can be used to get the integer, floating-point number, or string\n",
    "version of a value?\n",
    "10. Why does this expression cause an error? How can you fix it?\n",
    "&#39;I have eaten &#39; + 99 + &#39; burritos.&#39;"
   ]
  },
  {
   "cell_type": "markdown",
   "id": "5fbeb238",
   "metadata": {},
   "source": [
    "## Question 1 ##"
   ]
  },
  {
   "cell_type": "markdown",
   "id": "1d509fa1",
   "metadata": {},
   "source": [
    "1. In the below elements which of them are values or an expression? eg:- values can be\n",
    "integer or string and expressions will be mathematical operators.\n",
    "*\n",
    "'hello';\n",
    "-87.8\n",
    "-\n",
    "/\n",
    "+\n",
    "6"
   ]
  },
  {
   "cell_type": "markdown",
   "id": "4452c5ee",
   "metadata": {},
   "source": [
    "## Answer 1 ##\n"
   ]
  },
  {
   "cell_type": "markdown",
   "id": "8e29d505",
   "metadata": {},
   "source": [
    "* , - , /,+  - expression\n",
    "'hello', -87.8 , 6 -> value"
   ]
  },
  {
   "cell_type": "markdown",
   "id": "f70e839f",
   "metadata": {},
   "source": [
    "## Question 2 ##"
   ]
  },
  {
   "cell_type": "markdown",
   "id": "95a67bb3",
   "metadata": {},
   "source": [
    "What is the difference between string and variable?"
   ]
  },
  {
   "cell_type": "markdown",
   "id": "642d6336",
   "metadata": {},
   "source": [
    "A variable is where can store information , like string,integer , object etc.\n",
    "String is a sequence of characters ais the type of information we want to store in a variable. "
   ]
  },
  {
   "cell_type": "code",
   "execution_count": null,
   "id": "28550623",
   "metadata": {},
   "outputs": [],
   "source": []
  }
 ],
 "metadata": {
  "kernelspec": {
   "display_name": "Python 3",
   "language": "python",
   "name": "python3"
  },
  "language_info": {
   "codemirror_mode": {
    "name": "ipython",
    "version": 3
   },
   "file_extension": ".py",
   "mimetype": "text/x-python",
   "name": "python",
   "nbconvert_exporter": "python",
   "pygments_lexer": "ipython3",
   "version": "3.6.5"
  }
 },
 "nbformat": 4,
 "nbformat_minor": 5
}
