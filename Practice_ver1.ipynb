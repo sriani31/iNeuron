{
 "cells": [
  {
   "cell_type": "code",
   "execution_count": 1,
   "id": "318afdc9",
   "metadata": {},
   "outputs": [
    {
     "name": "stdout",
     "output_type": "stream",
     "text": [
      "KA03NJ6795\n"
     ]
    }
   ],
   "source": [
    "reg = input()"
   ]
  },
  {
   "cell_type": "code",
   "execution_count": 2,
   "id": "d92b5a14",
   "metadata": {},
   "outputs": [
    {
     "data": {
      "text/plain": [
       "'KA'"
      ]
     },
     "execution_count": 2,
     "metadata": {},
     "output_type": "execute_result"
    }
   ],
   "source": [
    "reg[0:2]"
   ]
  },
  {
   "cell_type": "code",
   "execution_count": 3,
   "id": "9d320811",
   "metadata": {},
   "outputs": [
    {
     "data": {
      "text/plain": [
       "'5976JN30AK'"
      ]
     },
     "execution_count": 3,
     "metadata": {},
     "output_type": "execute_result"
    }
   ],
   "source": [
    "reg[::-1]"
   ]
  },
  {
   "cell_type": "code",
   "execution_count": 4,
   "id": "a5b08e0d",
   "metadata": {},
   "outputs": [
    {
     "data": {
      "text/plain": [
       "'A'"
      ]
     },
     "execution_count": 4,
     "metadata": {},
     "output_type": "execute_result"
    }
   ],
   "source": [
    "reg[1:2:2]"
   ]
  },
  {
   "cell_type": "code",
   "execution_count": 5,
   "id": "59eff095",
   "metadata": {},
   "outputs": [
    {
     "data": {
      "text/plain": [
       "'A'"
      ]
     },
     "execution_count": 5,
     "metadata": {},
     "output_type": "execute_result"
    }
   ],
   "source": [
    "reg[1:2:]"
   ]
  },
  {
   "cell_type": "code",
   "execution_count": 10,
   "id": "b2e92cd4",
   "metadata": {},
   "outputs": [
    {
     "data": {
      "text/plain": [
       "'K0'"
      ]
     },
     "execution_count": 10,
     "metadata": {},
     "output_type": "execute_result"
    }
   ],
   "source": [
    "reg[0:3:2]"
   ]
  },
  {
   "cell_type": "code",
   "execution_count": 12,
   "id": "41c5953a",
   "metadata": {},
   "outputs": [
    {
     "data": {
      "text/plain": [
       "'K0N'"
      ]
     },
     "execution_count": 12,
     "metadata": {},
     "output_type": "execute_result"
    }
   ],
   "source": [
    "reg[0:5:2]"
   ]
  },
  {
   "cell_type": "code",
   "execution_count": 13,
   "id": "4b64a3ad",
   "metadata": {},
   "outputs": [
    {
     "data": {
      "text/plain": [
       "'JN'"
      ]
     },
     "execution_count": 13,
     "metadata": {},
     "output_type": "execute_result"
    }
   ],
   "source": [
    "reg[5:3:-1]"
   ]
  },
  {
   "cell_type": "code",
   "execution_count": 17,
   "id": "aa425c17",
   "metadata": {},
   "outputs": [
    {
     "data": {
      "text/plain": [
       "'KA03NJ'"
      ]
     },
     "execution_count": 17,
     "metadata": {},
     "output_type": "execute_result"
    }
   ],
   "source": [
    "reg[:-4]"
   ]
  },
  {
   "cell_type": "code",
   "execution_count": 18,
   "id": "27cc8503",
   "metadata": {},
   "outputs": [
    {
     "data": {
      "text/plain": [
       "'6795'"
      ]
     },
     "execution_count": 18,
     "metadata": {},
     "output_type": "execute_result"
    }
   ],
   "source": [
    "reg[-4:]"
   ]
  },
  {
   "cell_type": "code",
   "execution_count": 22,
   "id": "4775f7a3",
   "metadata": {},
   "outputs": [
    {
     "name": "stdout",
     "output_type": "stream",
     "text": [
      "12345\n"
     ]
    }
   ],
   "source": [
    "num = int(input())"
   ]
  },
  {
   "cell_type": "code",
   "execution_count": 43,
   "id": "8e7d1824",
   "metadata": {},
   "outputs": [
    {
     "name": "stdout",
     "output_type": "stream",
     "text": [
      "0\n"
     ]
    }
   ],
   "source": [
    "num =12345\n",
    "sum1 = 0\n",
    "\n",
    "print(sum1)"
   ]
  },
  {
   "cell_type": "code",
   "execution_count": 28,
   "id": "e232ca0a",
   "metadata": {},
   "outputs": [
    {
     "data": {
      "text/plain": [
       "5"
      ]
     },
     "execution_count": 28,
     "metadata": {},
     "output_type": "execute_result"
    }
   ],
   "source": [
    "num%10"
   ]
  },
  {
   "cell_type": "code",
   "execution_count": 30,
   "id": "351bba44",
   "metadata": {},
   "outputs": [
    {
     "data": {
      "text/plain": [
       "1234"
      ]
     },
     "execution_count": 30,
     "metadata": {},
     "output_type": "execute_result"
    }
   ],
   "source": [
    "num//10"
   ]
  },
  {
   "cell_type": "code",
   "execution_count": 44,
   "id": "cd047d16",
   "metadata": {},
   "outputs": [
    {
     "name": "stdout",
     "output_type": "stream",
     "text": [
      "0\n",
      "1234\n",
      "5\n",
      "123\n",
      "9\n",
      "12\n",
      "12\n",
      "1\n",
      "14\n",
      "0\n"
     ]
    }
   ],
   "source": [
    "while(num>0):\n",
    "    print(sum1)\n",
    "    sum1 +=num%10\n",
    "    num=num//10\n",
    "    print(num)"
   ]
  },
  {
   "cell_type": "code",
   "execution_count": 45,
   "id": "49de7ae4",
   "metadata": {},
   "outputs": [
    {
     "data": {
      "text/plain": [
       "15"
      ]
     },
     "execution_count": 45,
     "metadata": {},
     "output_type": "execute_result"
    }
   ],
   "source": [
    "sum1"
   ]
  },
  {
   "cell_type": "code",
   "execution_count": 70,
   "id": "45a1ba2f",
   "metadata": {},
   "outputs": [],
   "source": [
    "from datetime import date\n",
    "import time"
   ]
  },
  {
   "cell_type": "code",
   "execution_count": 95,
   "id": "4cc7cfa5",
   "metadata": {},
   "outputs": [],
   "source": [
    "def myDateLog(func):\n",
    "    def innerFunc(*args,**kwargs):\n",
    "        print(date.today())\n",
    "        return func(*args,**kwargs)\n",
    "    return innerFunc\n",
    "    "
   ]
  },
  {
   "cell_type": "code",
   "execution_count": 94,
   "id": "4a1a82e7",
   "metadata": {},
   "outputs": [],
   "source": [
    "def myTimeLog(func):\n",
    "    def innerFunc(*args,**kwargs):\n",
    "        start = time.time()\n",
    "        retval = func(*args,**kwargs)\n",
    "        end =time.time()\n",
    "        print(end-start)\n",
    "        return retval\n",
    "    return innerFunc"
   ]
  },
  {
   "cell_type": "code",
   "execution_count": 96,
   "id": "a9c8845e",
   "metadata": {},
   "outputs": [],
   "source": [
    "@myDateLog\n",
    "@myTimeLog\n",
    "def myAddFunc(a,b):\n",
    "    return a+b\n",
    "    "
   ]
  },
  {
   "cell_type": "code",
   "execution_count": 97,
   "id": "1b2388ae",
   "metadata": {},
   "outputs": [
    {
     "name": "stdout",
     "output_type": "stream",
     "text": [
      "2022-12-16\n",
      "9.5367431640625e-07\n"
     ]
    },
    {
     "data": {
      "text/plain": [
       "5"
      ]
     },
     "execution_count": 97,
     "metadata": {},
     "output_type": "execute_result"
    }
   ],
   "source": [
    "myAddFunc(2,3)"
   ]
  },
  {
   "cell_type": "code",
   "execution_count": 98,
   "id": "ebb3510a",
   "metadata": {},
   "outputs": [],
   "source": [
    "@myDateLog\n",
    "@myTimeLog\n",
    "def myListLength(ls):\n",
    "    return list(map(len, ls))\n",
    "    "
   ]
  },
  {
   "cell_type": "code",
   "execution_count": 100,
   "id": "3c736fc3",
   "metadata": {},
   "outputs": [
    {
     "name": "stdout",
     "output_type": "stream",
     "text": [
      "2022-12-16\n",
      "5.9604644775390625e-06\n",
      "[2, 4]\n"
     ]
    }
   ],
   "source": [
    "print(myListLength(['sr','iani']))"
   ]
  },
  {
   "cell_type": "code",
   "execution_count": 91,
   "id": "f979fc10",
   "metadata": {},
   "outputs": [
    {
     "data": {
      "text/plain": [
       "[2, 4]"
      ]
     },
     "execution_count": 91,
     "metadata": {},
     "output_type": "execute_result"
    }
   ],
   "source": [
    "\n",
    "list(map(len, ['sr','iani']\n",
    "   ))"
   ]
  },
  {
   "cell_type": "code",
   "execution_count": 101,
   "id": "15e6f097",
   "metadata": {},
   "outputs": [],
   "source": [
    "number_list = [10,20,60,30,20,40,30,60,70,80]"
   ]
  },
  {
   "cell_type": "code",
   "execution_count": 104,
   "id": "7e22ef29",
   "metadata": {},
   "outputs": [
    {
     "data": {
      "text/plain": [
       "[60, 60, 70, 80]"
      ]
     },
     "execution_count": 104,
     "metadata": {},
     "output_type": "execute_result"
    }
   ],
   "source": [
    "[i  for i in number_list if i > 50]"
   ]
  },
  {
   "cell_type": "code",
   "execution_count": 106,
   "id": "63b14a8e",
   "metadata": {},
   "outputs": [
    {
     "data": {
      "text/plain": [
       "[10, 20, 30, 20, 40, 30]"
      ]
     },
     "execution_count": 106,
     "metadata": {},
     "output_type": "execute_result"
    }
   ],
   "source": [
    "list(filter(lambda a : a <=50, number_list))"
   ]
  },
  {
   "cell_type": "code",
   "execution_count": 109,
   "id": "8da0882f",
   "metadata": {},
   "outputs": [],
   "source": [
    "sample_list = [10,20,60,30,20,40,30,60,70,80]\n",
    "myDict = {}\n",
    "\n",
    "for i in sample_list:\n",
    "    if(myDict.get(i) == None):\n",
    "        myDict[i] = 1\n",
    "    else:\n",
    "        myDict[i] = myDict[i]+1"
   ]
  },
  {
   "cell_type": "code",
   "execution_count": 111,
   "id": "10c9f0db",
   "metadata": {},
   "outputs": [
    {
     "data": {
      "text/plain": [
       "{10: 1, 20: 2, 60: 2, 30: 2, 40: 1, 70: 1, 80: 1}"
      ]
     },
     "execution_count": 111,
     "metadata": {},
     "output_type": "execute_result"
    }
   ],
   "source": [
    "myDict"
   ]
  },
  {
   "cell_type": "code",
   "execution_count": 119,
   "id": "506c40c8",
   "metadata": {},
   "outputs": [
    {
     "name": "stdout",
     "output_type": "stream",
     "text": [
      "20 60 30 "
     ]
    }
   ],
   "source": [
    "for item in myDict:\n",
    "    if myDict[item] > 1:\n",
    "        print(item, end = \" \")"
   ]
  },
  {
   "cell_type": "code",
   "execution_count": 131,
   "id": "6fb99bef",
   "metadata": {},
   "outputs": [],
   "source": [
    "@myDateLog\n",
    "@myTimeLog\n",
    "def outerFunc(firstName : str , secondName : str ):\n",
    "    def innerFunc(firstName : str , secondName : str):\n",
    "        print(firstName)\n",
    "        return firstName + secondName\n",
    "    return innerFunc(firstName , secondName ) + 'developer'"
   ]
  },
  {
   "cell_type": "code",
   "execution_count": 132,
   "id": "42e3fadb",
   "metadata": {
    "scrolled": true
   },
   "outputs": [
    {
     "name": "stdout",
     "output_type": "stream",
     "text": [
      "2022-12-18\n",
      "Emma\n",
      "0.00010609626770019531\n"
     ]
    },
    {
     "data": {
      "text/plain": [
       "'EmmaKellydeveloper'"
      ]
     },
     "execution_count": 132,
     "metadata": {},
     "output_type": "execute_result"
    }
   ],
   "source": [
    "outerFunc('Emma','Kelly')"
   ]
  },
  {
   "cell_type": "code",
   "execution_count": 134,
   "id": "745bdb23",
   "metadata": {},
   "outputs": [],
   "source": [
    "@myDateLog\n",
    "@myTimeLog\n",
    "def outerFunc(firstName : str , secondName : str ):\n",
    "    def innerFunc():\n",
    "        print(firstName)\n",
    "        return firstName + secondName\n",
    "    return innerFunc( ) + 'developer'"
   ]
  },
  {
   "cell_type": "code",
   "execution_count": 135,
   "id": "14d10503",
   "metadata": {},
   "outputs": [
    {
     "name": "stdout",
     "output_type": "stream",
     "text": [
      "2022-12-18\n",
      "Emma\n",
      "1.52587890625e-05\n"
     ]
    },
    {
     "data": {
      "text/plain": [
       "'EmmaKellydeveloper'"
      ]
     },
     "execution_count": 135,
     "metadata": {},
     "output_type": "execute_result"
    }
   ],
   "source": [
    "outerFunc('Emma','Kelly')"
   ]
  },
  {
   "cell_type": "markdown",
   "id": "6042efc5",
   "metadata": {},
   "source": [
    "## Flattening of lists - but this only does it to one level ##\n",
    "How do we flatten a list of list of list .... etc"
   ]
  },
  {
   "cell_type": "code",
   "execution_count": 139,
   "id": "3c660d4f",
   "metadata": {},
   "outputs": [
    {
     "name": "stdout",
     "output_type": "stream",
     "text": [
      "[1, 2, 3, 4, 5, 6, 7, 8, 9, 10]\n"
     ]
    }
   ],
   "source": [
    "import itertools\n",
    "\n",
    "Nested_list = [[1,2,3,4,5], [6,7,8], [9, 10]]\n",
    "\n",
    "flattened_list = list(itertools.chain(*Nested_list))\n",
    "print(flattened_list)"
   ]
  },
  {
   "cell_type": "code",
   "execution_count": 136,
   "id": "fac599e9",
   "metadata": {},
   "outputs": [
    {
     "name": "stdout",
     "output_type": "stream",
     "text": [
      "[1, 2, 3, 4, 5, 6, 7, 8, 9, 10, [11, 12]]\n"
     ]
    }
   ],
   "source": [
    "import itertools\n",
    "\n",
    "Nested_list = [[1,2,3,4,5], [6,7,8], [9, 10], [[11,12]]]\n",
    "\n",
    "flattened_list = list(itertools.chain(*Nested_list))\n",
    "print(flattened_list)"
   ]
  },
  {
   "cell_type": "code",
   "execution_count": 138,
   "id": "ca9a576a",
   "metadata": {},
   "outputs": [
    {
     "name": "stdout",
     "output_type": "stream",
     "text": [
      "[1, 2, 3, 4, 5, 6, 7, 8, 9, 10, [11, 12]]\n"
     ]
    }
   ],
   "source": [
    "from functools import reduce\n",
    "\n",
    "Nested_list = [[1,2,3,4,5], [6,7,8], [9, 10] , [[11,12]]]\n",
    "print(reduce(lambda a, b: a+b, Nested_list))\n"
   ]
  },
  {
   "cell_type": "code",
   "execution_count": 141,
   "id": "1573b36e",
   "metadata": {},
   "outputs": [
    {
     "name": "stdout",
     "output_type": "stream",
     "text": [
      "[1, 2, 3, 4, 5, 6, 7, 8, 9, 10]\n"
     ]
    }
   ],
   "source": [
    "Nested_list = [[1,2,3,4,5], [6,7,8], [9, 10]]\n",
    "flattend_list = [item for sublist in Nested_list for item in sublist]\n",
    "print(flattened_list)"
   ]
  },
  {
   "cell_type": "markdown",
   "id": "fa3a0f26",
   "metadata": {},
   "source": [
    "https://www.freecodecamp.org/news/list-comprehension-in-python-with-code-examples/"
   ]
  },
  {
   "cell_type": "code",
   "execution_count": 148,
   "id": "fe808678",
   "metadata": {},
   "outputs": [],
   "source": [
    "new_list = [num for num in range(50) if num > 20 and num % 5 ==0]"
   ]
  },
  {
   "cell_type": "code",
   "execution_count": 149,
   "id": "de09ea0b",
   "metadata": {
    "scrolled": true
   },
   "outputs": [
    {
     "name": "stdout",
     "output_type": "stream",
     "text": [
      "[25, 30, 35, 40, 45]\n"
     ]
    }
   ],
   "source": [
    "print(new_list)"
   ]
  },
  {
   "cell_type": "markdown",
   "id": "ca3963ea",
   "metadata": {},
   "source": [
    "Remove duplicates , list comprehensions example below\n",
    "\n",
    "    https://www.geeksforgeeks.org/python-ways-to-remove-duplicates-from-list/"
   ]
  },
  {
   "cell_type": "code",
   "execution_count": 151,
   "id": "9afc2637",
   "metadata": {},
   "outputs": [
    {
     "name": "stdout",
     "output_type": "stream",
     "text": [
      "[1, 2, 3, 4]\n"
     ]
    }
   ],
   "source": [
    "l1 = [1,2,3,4,1,2,4]\n",
    "res = [*set(l1)]\n",
    "print(res)"
   ]
  },
  {
   "cell_type": "code",
   "execution_count": 154,
   "id": "cb71be00",
   "metadata": {},
   "outputs": [
    {
     "data": {
      "text/plain": [
       "[1, 2, 3, 4, 1, 2, 4]"
      ]
     },
     "execution_count": 154,
     "metadata": {},
     "output_type": "execute_result"
    }
   ],
   "source": [
    "l1"
   ]
  },
  {
   "cell_type": "code",
   "execution_count": 184,
   "id": "21a1553f",
   "metadata": {},
   "outputs": [
    {
     "data": {
      "text/plain": [
       "[None, None, None, None]"
      ]
     },
     "execution_count": 184,
     "metadata": {},
     "output_type": "execute_result"
    }
   ],
   "source": [
    "res = []\n",
    "[res.append(x) for x in l1 if x not in res]"
   ]
  },
  {
   "cell_type": "code",
   "execution_count": 173,
   "id": "371c5f92",
   "metadata": {},
   "outputs": [
    {
     "name": "stdout",
     "output_type": "stream",
     "text": [
      "[None, None, None, None]\n"
     ]
    }
   ],
   "source": [
    "print(str(a))"
   ]
  },
  {
   "cell_type": "markdown",
   "id": "93872164",
   "metadata": {},
   "source": [
    "Why None as an output "
   ]
  },
  {
   "cell_type": "code",
   "execution_count": 170,
   "id": "fa718413",
   "metadata": {},
   "outputs": [
    {
     "name": "stdout",
     "output_type": "stream",
     "text": [
      "[1, 2, 3, 4]\n"
     ]
    }
   ],
   "source": [
    "retval = []\n",
    "for i in l1:\n",
    "    if i not in retval : \n",
    "        retval.append(i)\n",
    "\n",
    "print(retval)\n",
    "    "
   ]
  },
  {
   "cell_type": "code",
   "execution_count": 159,
   "id": "59f4018a",
   "metadata": {},
   "outputs": [
    {
     "data": {
      "text/plain": [
       "<enumerate at 0x7f9681460750>"
      ]
     },
     "execution_count": 159,
     "metadata": {},
     "output_type": "execute_result"
    }
   ],
   "source": [
    "enumerate(l1)"
   ]
  },
  {
   "cell_type": "code",
   "execution_count": 161,
   "id": "3a3978fa",
   "metadata": {},
   "outputs": [
    {
     "name": "stdout",
     "output_type": "stream",
     "text": [
      "[(0, 1), (1, 2), (2, 3), (3, 4), (4, 1), (5, 2), (6, 4)]\n"
     ]
    }
   ],
   "source": [
    "print(list(enumerate(l1)))"
   ]
  },
  {
   "cell_type": "code",
   "execution_count": 162,
   "id": "c124c354",
   "metadata": {},
   "outputs": [
    {
     "data": {
      "text/plain": [
       "[1, 2, 3, 4, 1, 2, 4]"
      ]
     },
     "execution_count": 162,
     "metadata": {},
     "output_type": "execute_result"
    }
   ],
   "source": [
    "l1[:7]"
   ]
  },
  {
   "cell_type": "code",
   "execution_count": 163,
   "id": "6bebbf4a",
   "metadata": {},
   "outputs": [
    {
     "data": {
      "text/plain": [
       "[1, 2, 3]"
      ]
     },
     "execution_count": 163,
     "metadata": {},
     "output_type": "execute_result"
    }
   ],
   "source": [
    "l1[:3]"
   ]
  },
  {
   "cell_type": "code",
   "execution_count": 168,
   "id": "8d9cf370",
   "metadata": {},
   "outputs": [
    {
     "name": "stdout",
     "output_type": "stream",
     "text": [
      "0 1\n",
      "1 2\n",
      "2 3\n",
      "3 4\n",
      "4 1\n",
      "5 2\n",
      "6 4\n"
     ]
    }
   ],
   "source": [
    "for count,num in enumerate(l1):\n",
    "    print(str(count) + \" \"+ str(num))"
   ]
  },
  {
   "cell_type": "code",
   "execution_count": 169,
   "id": "fed624e5",
   "metadata": {},
   "outputs": [
    {
     "name": "stdout",
     "output_type": "stream",
     "text": [
      "0 1\n",
      "1 2\n",
      "2 3\n",
      "3 4\n",
      "4 1\n",
      "5 2\n",
      "6 4\n"
     ]
    }
   ],
   "source": [
    "for c,n in enumerate(l1):\n",
    "    print(str(c) + \" \"+ str(n))"
   ]
  },
  {
   "cell_type": "markdown",
   "id": "458ed3fa",
   "metadata": {},
   "source": [
    "Print the sum of the previous and current number "
   ]
  },
  {
   "cell_type": "code",
   "execution_count": 178,
   "id": "2fc0f68e",
   "metadata": {},
   "outputs": [
    {
     "name": "stdout",
     "output_type": "stream",
     "text": [
      "sum of current number 1 and previous number 0 is 1\n",
      "sum of current number 2 and previous number 1 is 3\n",
      "sum of current number 3 and previous number 2 is 5\n",
      "sum of current number 4 and previous number 3 is 7\n",
      "sum of current number 5 and previous number 4 is 9\n",
      "sum of current number 6 and previous number 5 is 11\n",
      "sum of current number 7 and previous number 6 is 13\n",
      "sum of current number 8 and previous number 7 is 15\n",
      "sum of current number 9 and previous number 8 is 17\n",
      "sum of current number 10 and previous number 9 is 19\n"
     ]
    }
   ],
   "source": [
    "s = 0\n",
    "pre = 0\n",
    "for i in range(1,11):\n",
    "    print(\"sum of current number \" + str(i) + \" and previous number \"+ str(pre) + \" is \" + str(i + pre) )\n",
    "    pre = i\n",
    "    "
   ]
  },
  {
   "cell_type": "code",
   "execution_count": 180,
   "id": "87244f73",
   "metadata": {},
   "outputs": [
    {
     "name": "stdout",
     "output_type": "stream",
     "text": [
      "Current Number 1 Previous Number 0 Sum: 1\n",
      "Current Number 2 Previous Number 1 Sum: 3\n",
      "Current Number 3 Previous Number 2 Sum: 5\n",
      "Current Number 4 Previous Number 3 Sum: 7\n",
      "Current Number 5 Previous Number 4 Sum: 9\n",
      "Current Number 6 Previous Number 5 Sum: 11\n",
      "Current Number 7 Previous Number 6 Sum: 13\n",
      "Current Number 8 Previous Number 7 Sum: 15\n",
      "Current Number 9 Previous Number 8 Sum: 17\n"
     ]
    }
   ],
   "source": [
    "s = 0 \n",
    "pre = 0 \n",
    "for i in range(1,10):\n",
    "    s = i + pre\n",
    "    print(f\"Current Number {i} Previous Number {pre} Sum: {s}\" )\n",
    "    pre = i"
   ]
  },
  {
   "cell_type": "code",
   "execution_count": 185,
   "id": "ed3ed1db",
   "metadata": {},
   "outputs": [
    {
     "name": "stdout",
     "output_type": "stream",
     "text": [
      "A i e h "
     ]
    },
    {
     "data": {
      "text/plain": [
       "[None, None, None, None]"
      ]
     },
     "execution_count": 185,
     "metadata": {},
     "output_type": "execute_result"
    }
   ],
   "source": [
    "[ print(i , end = \" \") for n, i in enumerate(\"Animesh\") if n % 2 == 0]"
   ]
  },
  {
   "cell_type": "code",
   "execution_count": 4,
   "id": "bf07565d",
   "metadata": {},
   "outputs": [
    {
     "name": "stdout",
     "output_type": "stream",
     "text": [
      "A i e h "
     ]
    }
   ],
   "source": [
    "st = \"Animesh\"\n",
    "for i in range(0,len(st),2):\n",
    "    print(st[i] , end = \" \")"
   ]
  },
  {
   "cell_type": "markdown",
   "id": "20e9186b",
   "metadata": {},
   "source": [
    "Print multiplication of tables from 1 to 10"
   ]
  },
  {
   "cell_type": "code",
   "execution_count": 5,
   "id": "e91740ad",
   "metadata": {},
   "outputs": [
    {
     "name": "stdout",
     "output_type": "stream",
     "text": [
      "1 2 3 4 5 6 7 8 9 10 \n",
      "2 4 6 8 10 12 14 16 18 20 \n",
      "3 6 9 12 15 18 21 24 27 30 \n",
      "4 8 12 16 20 24 28 32 36 40 \n",
      "5 10 15 20 25 30 35 40 45 50 \n",
      "6 12 18 24 30 36 42 48 54 60 \n",
      "7 14 21 28 35 42 49 56 63 70 \n",
      "8 16 24 32 40 48 56 64 72 80 \n",
      "9 18 27 36 45 54 63 72 81 90 \n",
      "10 20 30 40 50 60 70 80 90 100 \n"
     ]
    }
   ],
   "source": [
    "for i in range(1,11):\n",
    "    for j in range(1,11):\n",
    "        print(i*j, end = \" \" )\n",
    "    print()"
   ]
  },
  {
   "cell_type": "code",
   "execution_count": 7,
   "id": "ce782e3d",
   "metadata": {},
   "outputs": [],
   "source": [
    "sample_list = [87,45,41,65,94,41,99,94]"
   ]
  },
  {
   "cell_type": "code",
   "execution_count": 8,
   "id": "f7b4af5e",
   "metadata": {},
   "outputs": [],
   "source": [
    "res = []\n",
    "for i in sample_list:\n",
    "    if i not in res :\n",
    "        res.append(i)"
   ]
  },
  {
   "cell_type": "code",
   "execution_count": 9,
   "id": "c7afa20f",
   "metadata": {},
   "outputs": [
    {
     "name": "stdout",
     "output_type": "stream",
     "text": [
      "[87, 45, 41, 65, 94, 99]\n"
     ]
    }
   ],
   "source": [
    "print(res)"
   ]
  },
  {
   "cell_type": "code",
   "execution_count": 13,
   "id": "9567d2c8",
   "metadata": {},
   "outputs": [
    {
     "name": "stdout",
     "output_type": "stream",
     "text": [
      "<class 'list'>\n"
     ]
    }
   ],
   "source": [
    "t = tuple(res)\n",
    "print(type(res))"
   ]
  },
  {
   "cell_type": "code",
   "execution_count": 12,
   "id": "41934918",
   "metadata": {},
   "outputs": [
    {
     "name": "stdout",
     "output_type": "stream",
     "text": [
      "<class 'tuple'>\n"
     ]
    }
   ],
   "source": [
    "print(type(t))"
   ]
  },
  {
   "cell_type": "code",
   "execution_count": 14,
   "id": "b5157ef1",
   "metadata": {},
   "outputs": [
    {
     "data": {
      "text/plain": [
       "99"
      ]
     },
     "execution_count": 14,
     "metadata": {},
     "output_type": "execute_result"
    }
   ],
   "source": [
    "max(t)"
   ]
  },
  {
   "cell_type": "code",
   "execution_count": 15,
   "id": "56d32a8a",
   "metadata": {},
   "outputs": [
    {
     "data": {
      "text/plain": [
       "41"
      ]
     },
     "execution_count": 15,
     "metadata": {},
     "output_type": "execute_result"
    }
   ],
   "source": [
    "min(t)"
   ]
  },
  {
   "cell_type": "code",
   "execution_count": 17,
   "id": "78d510a3",
   "metadata": {},
   "outputs": [],
   "source": [
    "h = lambda x : x + 16"
   ]
  },
  {
   "cell_type": "code",
   "execution_count": 18,
   "id": "d983b011",
   "metadata": {},
   "outputs": [
    {
     "data": {
      "text/plain": [
       "[103, 61, 57, 81, 110, 57, 115, 110]"
      ]
     },
     "execution_count": 18,
     "metadata": {},
     "output_type": "execute_result"
    }
   ],
   "source": [
    "list(map(h , sample_list))"
   ]
  },
  {
   "cell_type": "markdown",
   "id": "a0f38d00",
   "metadata": {},
   "source": [
    "Sort a list of tuples using lambda"
   ]
  },
  {
   "cell_type": "code",
   "execution_count": 46,
   "id": "92d6c22b",
   "metadata": {},
   "outputs": [],
   "source": [
    "tup =[('for', 24), ('is', 10), ('Geeks', 28),\n",
    "      ('Geeksforgeeks', 5), ('portal', 20), ('a', 15)]"
   ]
  },
  {
   "cell_type": "code",
   "execution_count": 44,
   "id": "24fecc95",
   "metadata": {},
   "outputs": [],
   "source": [
    "tup.sort(key = lambda x : x[1])"
   ]
  },
  {
   "cell_type": "code",
   "execution_count": 45,
   "id": "06091805",
   "metadata": {
    "scrolled": true
   },
   "outputs": [
    {
     "data": {
      "text/plain": [
       "[('Geeksforgeeks', 5),\n",
       " ('is', 10),\n",
       " ('a', 15),\n",
       " ('portal', 20),\n",
       " ('for', 24),\n",
       " ('Geeks', 28)]"
      ]
     },
     "execution_count": 45,
     "metadata": {},
     "output_type": "execute_result"
    }
   ],
   "source": [
    "tup"
   ]
  },
  {
   "cell_type": "code",
   "execution_count": 49,
   "id": "1b0e0840",
   "metadata": {
    "scrolled": true
   },
   "outputs": [
    {
     "data": {
      "text/plain": [
       "[('Geeksforgeeks', 5),\n",
       " ('is', 10),\n",
       " ('a', 15),\n",
       " ('portal', 20),\n",
       " ('for', 24),\n",
       " ('Geeks', 28)]"
      ]
     },
     "execution_count": 49,
     "metadata": {},
     "output_type": "execute_result"
    }
   ],
   "source": [
    "sorted(tup , key = lambda x : x[1], reverse = False)"
   ]
  },
  {
   "cell_type": "markdown",
   "id": "74198c06",
   "metadata": {},
   "source": [
    "Difference between sort and sorted - sort is inplace and sorted is new list "
   ]
  },
  {
   "cell_type": "markdown",
   "id": "60456568",
   "metadata": {},
   "source": [
    "## Bubble Sort ##"
   ]
  },
  {
   "cell_type": "code",
   "execution_count": 22,
   "id": "f37164aa",
   "metadata": {},
   "outputs": [],
   "source": [
    "arr = [12,4,5,2]\n",
    "l = len(arr)\n",
    "for i in range(0,l):\n",
    "    for j in range(0,l-i-1):\n",
    "        if(arr[j] > arr[j+1]):\n",
    "            temp  = arr[j+1]\n",
    "            arr[j+1] = arr[j]\n",
    "            arr[j] = temp"
   ]
  },
  {
   "cell_type": "code",
   "execution_count": 23,
   "id": "7eb757c5",
   "metadata": {},
   "outputs": [
    {
     "name": "stdout",
     "output_type": "stream",
     "text": [
      "[2, 4, 5, 12]\n"
     ]
    }
   ],
   "source": [
    "print(arr)"
   ]
  },
  {
   "cell_type": "code",
   "execution_count": 25,
   "id": "7365a633",
   "metadata": {},
   "outputs": [],
   "source": [
    "lst = len(tup)\n",
    "\n",
    "for i in range(0,lst):\n",
    "    for j in range(0,lst-i-1):\n",
    "        if(tup[j][1] > tup[j+1][1]):\n",
    "            temp = tup[j]\n",
    "            tup[j] = tup[j+1]\n",
    "            tup[j+1]= temp"
   ]
  },
  {
   "cell_type": "code",
   "execution_count": 26,
   "id": "4e8a66b6",
   "metadata": {},
   "outputs": [
    {
     "name": "stdout",
     "output_type": "stream",
     "text": [
      "[('Geeksforgeeks', 5), ('is', 10), ('a', 15), ('portal', 20), ('for', 24), ('Geeks', 28)]\n"
     ]
    }
   ],
   "source": [
    "print(tup)\n"
   ]
  },
  {
   "cell_type": "code",
   "execution_count": 34,
   "id": "12a1503b",
   "metadata": {},
   "outputs": [],
   "source": [
    "jj = lambda x : x % 2 ==0"
   ]
  },
  {
   "cell_type": "code",
   "execution_count": 36,
   "id": "fcd4f5c3",
   "metadata": {},
   "outputs": [
    {
     "data": {
      "text/plain": [
       "[False, True, False, True, True]"
      ]
     },
     "execution_count": 36,
     "metadata": {},
     "output_type": "execute_result"
    }
   ],
   "source": [
    "list(map( jj, [1,2,3,4,6]))"
   ]
  },
  {
   "cell_type": "code",
   "execution_count": 37,
   "id": "4e53fba7",
   "metadata": {},
   "outputs": [
    {
     "data": {
      "text/plain": [
       "3"
      ]
     },
     "execution_count": 37,
     "metadata": {},
     "output_type": "execute_result"
    }
   ],
   "source": [
    "sum(list(map( jj, [1,2,3,4,6])))"
   ]
  },
  {
   "cell_type": "code",
   "execution_count": 51,
   "id": "3941d2a4",
   "metadata": {},
   "outputs": [
    {
     "data": {
      "text/plain": [
       "[2]"
      ]
     },
     "execution_count": 51,
     "metadata": {},
     "output_type": "execute_result"
    }
   ],
   "source": [
    "list(filter(lambda x : x%2 == 0 , [1,2,3]))"
   ]
  },
  {
   "cell_type": "markdown",
   "id": "e8672524",
   "metadata": {},
   "source": [
    "Extract. year date month time using lambda"
   ]
  },
  {
   "cell_type": "code",
   "execution_count": 38,
   "id": "5338f30d",
   "metadata": {},
   "outputs": [],
   "source": [
    "import datetime"
   ]
  },
  {
   "cell_type": "code",
   "execution_count": 39,
   "id": "76368a35",
   "metadata": {},
   "outputs": [],
   "source": [
    "now = datetime.datetime.now()"
   ]
  },
  {
   "cell_type": "code",
   "execution_count": 40,
   "id": "2b0e842a",
   "metadata": {},
   "outputs": [
    {
     "name": "stdout",
     "output_type": "stream",
     "text": [
      "2022-12-20 15:43:36.037175\n"
     ]
    }
   ],
   "source": [
    "print(now)"
   ]
  },
  {
   "cell_type": "code",
   "execution_count": 43,
   "id": "6d3545ee",
   "metadata": {},
   "outputs": [
    {
     "name": "stdout",
     "output_type": "stream",
     "text": [
      "2022\n",
      "12\n",
      "20\n",
      "15:43:36.037175\n"
     ]
    }
   ],
   "source": [
    "year = lambda x : x.year\n",
    "month = lambda x : x.month\n",
    "day = lambda x : x.day\n",
    "t = lambda x: x.time()\n",
    "\n",
    "print(year(now))\n",
    "print(month(now))\n",
    "print(day(now))\n",
    "print(t(now))"
   ]
  },
  {
   "cell_type": "code",
   "execution_count": 53,
   "id": "ac9bcd43",
   "metadata": {},
   "outputs": [
    {
     "data": {
      "text/plain": [
       "12.2"
      ]
     },
     "execution_count": 53,
     "metadata": {},
     "output_type": "execute_result"
    }
   ],
   "source": [
    "sum([1,2.2,4,5])"
   ]
  },
  {
   "cell_type": "code",
   "execution_count": 54,
   "id": "d04a2c64",
   "metadata": {},
   "outputs": [],
   "source": [
    "def test(s : str):\n",
    "    return str(s).upper(), str(s).lower()"
   ]
  },
  {
   "cell_type": "code",
   "execution_count": 55,
   "id": "b2c07f09",
   "metadata": {},
   "outputs": [
    {
     "data": {
      "text/plain": [
       "('A', 'a')"
      ]
     },
     "execution_count": 55,
     "metadata": {},
     "output_type": "execute_result"
    }
   ],
   "source": [
    "test(\"a\")"
   ]
  },
  {
   "cell_type": "code",
   "execution_count": 56,
   "id": "9eeb5ba4",
   "metadata": {},
   "outputs": [
    {
     "data": {
      "text/plain": [
       "['In',\n",
       " 'Out',\n",
       " '_',\n",
       " '_14',\n",
       " '_15',\n",
       " '_16',\n",
       " '_18',\n",
       " '_32',\n",
       " '_33',\n",
       " '_35',\n",
       " '_36',\n",
       " '_37',\n",
       " '_45',\n",
       " '_48',\n",
       " '_49',\n",
       " '_50',\n",
       " '_51',\n",
       " '_52',\n",
       " '_53',\n",
       " '_55',\n",
       " '__',\n",
       " '___',\n",
       " '__builtin__',\n",
       " '__builtins__',\n",
       " '__doc__',\n",
       " '__loader__',\n",
       " '__name__',\n",
       " '__package__',\n",
       " '__spec__',\n",
       " '_dh',\n",
       " '_i',\n",
       " '_i1',\n",
       " '_i10',\n",
       " '_i11',\n",
       " '_i12',\n",
       " '_i13',\n",
       " '_i14',\n",
       " '_i15',\n",
       " '_i16',\n",
       " '_i17',\n",
       " '_i18',\n",
       " '_i19',\n",
       " '_i2',\n",
       " '_i20',\n",
       " '_i21',\n",
       " '_i22',\n",
       " '_i23',\n",
       " '_i24',\n",
       " '_i25',\n",
       " '_i26',\n",
       " '_i27',\n",
       " '_i28',\n",
       " '_i29',\n",
       " '_i3',\n",
       " '_i30',\n",
       " '_i31',\n",
       " '_i32',\n",
       " '_i33',\n",
       " '_i34',\n",
       " '_i35',\n",
       " '_i36',\n",
       " '_i37',\n",
       " '_i38',\n",
       " '_i39',\n",
       " '_i4',\n",
       " '_i40',\n",
       " '_i41',\n",
       " '_i42',\n",
       " '_i43',\n",
       " '_i44',\n",
       " '_i45',\n",
       " '_i46',\n",
       " '_i47',\n",
       " '_i48',\n",
       " '_i49',\n",
       " '_i5',\n",
       " '_i50',\n",
       " '_i51',\n",
       " '_i52',\n",
       " '_i53',\n",
       " '_i54',\n",
       " '_i55',\n",
       " '_i56',\n",
       " '_i6',\n",
       " '_i7',\n",
       " '_i8',\n",
       " '_i9',\n",
       " '_ih',\n",
       " '_ii',\n",
       " '_iii',\n",
       " '_oh',\n",
       " 'arr',\n",
       " 'datetime',\n",
       " 'day',\n",
       " 'exit',\n",
       " 'get_ipython',\n",
       " 'h',\n",
       " 'i',\n",
       " 'j',\n",
       " 'jj',\n",
       " 'l',\n",
       " 'lst',\n",
       " 'month',\n",
       " 'now',\n",
       " 'quit',\n",
       " 'res',\n",
       " 'sample_list',\n",
       " 'st',\n",
       " 't',\n",
       " 'temp',\n",
       " 'test',\n",
       " 'tup',\n",
       " 'year']"
      ]
     },
     "execution_count": 56,
     "metadata": {},
     "output_type": "execute_result"
    }
   ],
   "source": [
    "dir()"
   ]
  },
  {
   "cell_type": "markdown",
   "id": "abca902d",
   "metadata": {},
   "source": [
    "Decorator practice\n",
    "\n"
   ]
  },
  {
   "cell_type": "code",
   "execution_count": 57,
   "id": "92123275",
   "metadata": {},
   "outputs": [],
   "source": [
    "def star(func):\n",
    "    def inner_star(*args, **kwargs):\n",
    "        print(\"*\" * 30)\n",
    "        func(*args, **kwargs)\n",
    "        print(\"*\" * 30)\n",
    "    return inner_star\n",
    "\n",
    "def percent(func):\n",
    "    def inner_percent(*args, ** kwargs):\n",
    "        print(\"%\" * 30)\n",
    "        func(*args, **kwargs)\n",
    "        print(\"%\" * 30)\n",
    "    return inner_percent"
   ]
  },
  {
   "cell_type": "code",
   "execution_count": 60,
   "id": "80cbb766",
   "metadata": {},
   "outputs": [],
   "source": [
    "@star\n",
    "@percent\n",
    "def printer(msg : str):\n",
    "    print(msg)"
   ]
  },
  {
   "cell_type": "code",
   "execution_count": 62,
   "id": "d8bb6ebf",
   "metadata": {},
   "outputs": [
    {
     "name": "stdout",
     "output_type": "stream",
     "text": [
      "******************************\n",
      "%%%%%%%%%%%%%%%%%%%%%%%%%%%%%%\n",
      "Hello ! Animesh\n",
      "%%%%%%%%%%%%%%%%%%%%%%%%%%%%%%\n",
      "******************************\n"
     ]
    }
   ],
   "source": [
    "printer(\"Hello ! Animesh\")"
   ]
  },
  {
   "cell_type": "markdown",
   "id": "7e44c635",
   "metadata": {},
   "source": [
    "## star ( percent ( printer )) ## is the sequence of calling"
   ]
  },
  {
   "cell_type": "code",
   "execution_count": 63,
   "id": "133a28fb",
   "metadata": {},
   "outputs": [
    {
     "name": "stdout",
     "output_type": "stream",
     "text": [
      "******************************\n",
      "%%%%%%%%%%%%%%%%%%%%%%%%%%%%%%\n",
      "Hello\n",
      "%%%%%%%%%%%%%%%%%%%%%%%%%%%%%%\n",
      "******************************\n"
     ]
    },
    {
     "data": {
      "text/plain": [
       "<function __main__.star.<locals>.inner_star(*args, **kwargs)>"
      ]
     },
     "execution_count": 63,
     "metadata": {},
     "output_type": "execute_result"
    }
   ],
   "source": [
    "star(percent(printer(\"Hello\")))"
   ]
  },
  {
   "cell_type": "code",
   "execution_count": 64,
   "id": "41ea05ec",
   "metadata": {},
   "outputs": [],
   "source": [
    "s = \"this is My First Python programming class and i am learNING python string and its function\""
   ]
  },
  {
   "cell_type": "code",
   "execution_count": 66,
   "id": "5f5f433e",
   "metadata": {},
   "outputs": [
    {
     "data": {
      "text/plain": [
       "127"
      ]
     },
     "execution_count": 66,
     "metadata": {},
     "output_type": "execute_result"
    }
   ],
   "source": [
    "import random\n",
    "random.randint(1, 500)"
   ]
  },
  {
   "cell_type": "code",
   "execution_count": 69,
   "id": "ed5d2a7b",
   "metadata": {},
   "outputs": [],
   "source": [
    "r_list = random.sample(range(1, 1000) ,500)"
   ]
  },
  {
   "cell_type": "code",
   "execution_count": 74,
   "id": "f8c09c83",
   "metadata": {},
   "outputs": [
    {
     "data": {
      "text/plain": [
       "'noitcnuf sti dna gnirts nohtyp GNINrael ma i dna ssalc gnimmargorp nohtyP tsriF yM si siht'"
      ]
     },
     "execution_count": 74,
     "metadata": {},
     "output_type": "execute_result"
    }
   ],
   "source": [
    "s[::-1]"
   ]
  },
  {
   "cell_type": "code",
   "execution_count": 76,
   "id": "acbc03e2",
   "metadata": {},
   "outputs": [
    {
     "data": {
      "text/plain": [
       "'THIS IS MY FIRST PYTHON PROGRAMMING CLASS AND I AM LEARNING PYTHON STRING AND ITS FUNCTION'"
      ]
     },
     "execution_count": 76,
     "metadata": {},
     "output_type": "execute_result"
    }
   ],
   "source": [
    "s.upper()"
   ]
  },
  {
   "cell_type": "code",
   "execution_count": 77,
   "id": "17257f35",
   "metadata": {},
   "outputs": [
    {
     "data": {
      "text/plain": [
       "['this',\n",
       " 'is',\n",
       " 'My',\n",
       " 'First',\n",
       " 'Python',\n",
       " 'programming',\n",
       " 'class',\n",
       " 'and',\n",
       " 'i',\n",
       " 'am',\n",
       " 'learNING',\n",
       " 'python',\n",
       " 'string',\n",
       " 'and',\n",
       " 'its',\n",
       " 'function']"
      ]
     },
     "execution_count": 77,
     "metadata": {},
     "output_type": "execute_result"
    }
   ],
   "source": [
    "s.split(\" \")"
   ]
  },
  {
   "cell_type": "code",
   "execution_count": 78,
   "id": "09a52cb5",
   "metadata": {},
   "outputs": [
    {
     "data": {
      "text/plain": [
       "'This is my first python programming class and i am learning python string and its function'"
      ]
     },
     "execution_count": 78,
     "metadata": {},
     "output_type": "execute_result"
    }
   ],
   "source": [
    "s.capitalize()"
   ]
  },
  {
   "cell_type": "code",
   "execution_count": 80,
   "id": "06beb1b3",
   "metadata": {},
   "outputs": [
    {
     "data": {
      "text/plain": [
       "'this is My First Python programming class and i am learNING python string and its function'"
      ]
     },
     "execution_count": 80,
     "metadata": {},
     "output_type": "execute_result"
    }
   ],
   "source": [
    "s.expandtabs(3)"
   ]
  },
  {
   "cell_type": "code",
   "execution_count": 81,
   "id": "6bd7c1a0",
   "metadata": {},
   "outputs": [
    {
     "data": {
      "text/plain": [
       "'anim is My First Python programming class and i am learNING python string and its function'"
      ]
     },
     "execution_count": 81,
     "metadata": {},
     "output_type": "execute_result"
    }
   ],
   "source": [
    "s.replace(\"this\", \"anim\")"
   ]
  },
  {
   "cell_type": "code",
   "execution_count": 86,
   "id": "236f3dd3",
   "metadata": {},
   "outputs": [
    {
     "data": {
      "text/plain": [
       "'******animesh*******'"
      ]
     },
     "execution_count": 86,
     "metadata": {},
     "output_type": "execute_result"
    }
   ],
   "source": [
    "\"animesh\".center(20,\"*\")"
   ]
  },
  {
   "cell_type": "code",
   "execution_count": 87,
   "id": "a45fcd02",
   "metadata": {},
   "outputs": [
    {
     "name": "stdout",
     "output_type": "stream",
     "text": [
      " \n",
      "Animesh  \n",
      "Animesh Animesh  \n",
      "Animesh Animesh Animesh  \n",
      "Animesh Animesh Animesh Animesh  \n"
     ]
    }
   ],
   "source": [
    "for i in range(5):\n",
    "    print(\"Animesh \" * i, end = \" \")\n",
    "    print()"
   ]
  },
  {
   "cell_type": "code",
   "execution_count": 88,
   "id": "65054b3f",
   "metadata": {},
   "outputs": [
    {
     "name": "stdout",
     "output_type": "stream",
     "text": [
      "* \n",
      "** \n",
      "*** \n",
      "**** \n"
     ]
    }
   ],
   "source": [
    "n = 1\n",
    "while(n < 5):\n",
    "    print(\"*\" * n , end = \" \" )\n",
    "    print()\n",
    "    n += 1"
   ]
  },
  {
   "cell_type": "markdown",
   "id": "2649df3d",
   "metadata": {},
   "source": [
    "## Finding the pivot in sorted array ##"
   ]
  },
  {
   "cell_type": "code",
   "execution_count": 152,
   "id": "51d6d009",
   "metadata": {},
   "outputs": [
    {
     "name": "stdout",
     "output_type": "stream",
     "text": [
      "pivot calculation 0 5 2\n",
      "Condition 2 : 0 1 2\n",
      "pivot calculation 0 1 0\n",
      "Condition 2 : 0 -1 0\n",
      "Pivot is at 0 and element at pivot is 5\n",
      "First array is\n",
      "[5]\n",
      "\n",
      "Second array is\n",
      "[5, 6, 1, 2, 3, 4]\n"
     ]
    }
   ],
   "source": [
    "#nums = [4,5,6,7,1,2]\n",
    "nums = [5,6,1,2,3,4]\n",
    "left , right = 0 , len(nums) - 1\n",
    "pivot = 0 \n",
    "while left <= right :\n",
    "    pivot = (left + right ) // 2\n",
    "    print(f\"pivot calculation {left} {right} {pivot}\")\n",
    "    if( nums[pivot] > nums[pivot+1] ):\n",
    "        pivot +=1\n",
    "        print(\"inside break\")\n",
    "        break\n",
    "    else:\n",
    "        if nums[pivot] > nums[right]:\n",
    "            left = pivot + 1\n",
    "            print(f\"Condition 1 : {left} {right} {pivot}\")\n",
    "        else: \n",
    "            right = pivot - 1\n",
    "            print(f\"Condition 2 : {left} {right} {pivot}\" )\n",
    "\n",
    "\n",
    "#print(mid)\n",
    "#pivot = mid + 1\n",
    "print(f\"Pivot is at {pivot} and element at pivot is {nums[pivot]}\")\n",
    "print(\"First array is\" )\n",
    "print(nums[0:pivot+1])\n",
    "# for i in range(0 , pivot+1):\n",
    "#       print(nums[i] , end = \" \")\n",
    "print()\n",
    "print(\"Second array is\" )\n",
    "print(nums[pivot:len(nums)])\n",
    "# for i in range(pivot+1 , len(nums)):\n",
    "#       print(nums[i], end = \" \")"
   ]
  },
  {
   "cell_type": "code",
   "execution_count": 123,
   "id": "92f5a5a7",
   "metadata": {},
   "outputs": [
    {
     "name": "stdout",
     "output_type": "stream",
     "text": [
      "1\n"
     ]
    }
   ],
   "source": [
    "print(mid + 1)"
   ]
  },
  {
   "cell_type": "code",
   "execution_count": 145,
   "id": "2e3dab2e",
   "metadata": {},
   "outputs": [
    {
     "data": {
      "text/plain": [
       "[1]"
      ]
     },
     "execution_count": 145,
     "metadata": {},
     "output_type": "execute_result"
    }
   ],
   "source": [
    "nums[2:3]"
   ]
  },
  {
   "cell_type": "code",
   "execution_count": 137,
   "id": "7440b958",
   "metadata": {},
   "outputs": [
    {
     "data": {
      "text/plain": [
       "[5, 6]"
      ]
     },
     "execution_count": 137,
     "metadata": {},
     "output_type": "execute_result"
    }
   ],
   "source": [
    "nums[0:2]"
   ]
  },
  {
   "cell_type": "code",
   "execution_count": 156,
   "id": "720af9dd",
   "metadata": {},
   "outputs": [
    {
     "name": "stdout",
     "output_type": "stream",
     "text": [
      "mid calculation 0 6 3\n",
      "Pivot is at 4 and element at pivot is 0\n",
      "First array is\n",
      "4 5 6 7 \n",
      "Second array is\n",
      "0 1 2 "
     ]
    }
   ],
   "source": [
    "#nums = [4,5,6,7,1]\n",
    "#nums = [5,6,1,2,3,4]\n",
    "nums = [4,5,6,7,0,1,2]\n",
    "\n",
    "left , right = 0 , len(nums) - 1\n",
    "\n",
    "while left <= right :\n",
    "    mid = (left + right ) // 2\n",
    "    print(f\"mid calculation {left} {right} {mid}\")\n",
    "    if( nums[mid] > nums[mid+1] ):\n",
    "        pivot  = mid + 1\n",
    "        break\n",
    "    else:\n",
    "        if nums[mid] < nums[left]:\n",
    "            right = mid - 1\n",
    "            print(f\"Condition 1 : {left} {right} {mid}\")\n",
    "        else: \n",
    "            left = mid + 1\n",
    "            print(f\"Condition 2 : {left} {right} {mid}\" )\n",
    "\n",
    "print(f\"Pivot is at {pivot} and element at pivot is {nums[pivot]}\")\n",
    "print(\"First array is\" )\n",
    "for i in range(0 , pivot):\n",
    "      print(nums[i] , end = \" \")\n",
    "print()\n",
    "print(\"Second array is\" )\n",
    "for i in range(pivot , len(nums)):\n",
    "      print(nums[i], end = \" \")"
   ]
  },
  {
   "cell_type": "code",
   "execution_count": null,
   "id": "ef4afa43",
   "metadata": {},
   "outputs": [],
   "source": []
  }
 ],
 "metadata": {
  "kernelspec": {
   "display_name": "Python 3",
   "language": "python",
   "name": "python3"
  },
  "language_info": {
   "codemirror_mode": {
    "name": "ipython",
    "version": 3
   },
   "file_extension": ".py",
   "mimetype": "text/x-python",
   "name": "python",
   "nbconvert_exporter": "python",
   "pygments_lexer": "ipython3",
   "version": "3.6.5"
  }
 },
 "nbformat": 4,
 "nbformat_minor": 5
}
