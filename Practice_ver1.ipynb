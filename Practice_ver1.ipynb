{
 "cells": [
  {
   "cell_type": "code",
   "execution_count": 1,
   "id": "318afdc9",
   "metadata": {},
   "outputs": [
    {
     "name": "stdout",
     "output_type": "stream",
     "text": [
      "KA03NJ6795\n"
     ]
    }
   ],
   "source": [
    "reg = input()"
   ]
  },
  {
   "cell_type": "code",
   "execution_count": 2,
   "id": "d92b5a14",
   "metadata": {},
   "outputs": [
    {
     "data": {
      "text/plain": [
       "'KA'"
      ]
     },
     "execution_count": 2,
     "metadata": {},
     "output_type": "execute_result"
    }
   ],
   "source": [
    "reg[0:2]"
   ]
  },
  {
   "cell_type": "code",
   "execution_count": 3,
   "id": "9d320811",
   "metadata": {},
   "outputs": [
    {
     "data": {
      "text/plain": [
       "'5976JN30AK'"
      ]
     },
     "execution_count": 3,
     "metadata": {},
     "output_type": "execute_result"
    }
   ],
   "source": [
    "reg[::-1]"
   ]
  },
  {
   "cell_type": "code",
   "execution_count": 4,
   "id": "a5b08e0d",
   "metadata": {},
   "outputs": [
    {
     "data": {
      "text/plain": [
       "'A'"
      ]
     },
     "execution_count": 4,
     "metadata": {},
     "output_type": "execute_result"
    }
   ],
   "source": [
    "reg[1:2:2]"
   ]
  },
  {
   "cell_type": "code",
   "execution_count": 5,
   "id": "59eff095",
   "metadata": {},
   "outputs": [
    {
     "data": {
      "text/plain": [
       "'A'"
      ]
     },
     "execution_count": 5,
     "metadata": {},
     "output_type": "execute_result"
    }
   ],
   "source": [
    "reg[1:2:]"
   ]
  },
  {
   "cell_type": "code",
   "execution_count": 10,
   "id": "b2e92cd4",
   "metadata": {},
   "outputs": [
    {
     "data": {
      "text/plain": [
       "'K0'"
      ]
     },
     "execution_count": 10,
     "metadata": {},
     "output_type": "execute_result"
    }
   ],
   "source": [
    "reg[0:3:2]"
   ]
  },
  {
   "cell_type": "code",
   "execution_count": 12,
   "id": "41c5953a",
   "metadata": {},
   "outputs": [
    {
     "data": {
      "text/plain": [
       "'K0N'"
      ]
     },
     "execution_count": 12,
     "metadata": {},
     "output_type": "execute_result"
    }
   ],
   "source": [
    "reg[0:5:2]"
   ]
  },
  {
   "cell_type": "code",
   "execution_count": 13,
   "id": "4b64a3ad",
   "metadata": {},
   "outputs": [
    {
     "data": {
      "text/plain": [
       "'JN'"
      ]
     },
     "execution_count": 13,
     "metadata": {},
     "output_type": "execute_result"
    }
   ],
   "source": [
    "reg[5:3:-1]"
   ]
  },
  {
   "cell_type": "code",
   "execution_count": 17,
   "id": "aa425c17",
   "metadata": {},
   "outputs": [
    {
     "data": {
      "text/plain": [
       "'KA03NJ'"
      ]
     },
     "execution_count": 17,
     "metadata": {},
     "output_type": "execute_result"
    }
   ],
   "source": [
    "reg[:-4]"
   ]
  },
  {
   "cell_type": "code",
   "execution_count": 18,
   "id": "27cc8503",
   "metadata": {},
   "outputs": [
    {
     "data": {
      "text/plain": [
       "'6795'"
      ]
     },
     "execution_count": 18,
     "metadata": {},
     "output_type": "execute_result"
    }
   ],
   "source": [
    "reg[-4:]"
   ]
  },
  {
   "cell_type": "code",
   "execution_count": 22,
   "id": "4775f7a3",
   "metadata": {},
   "outputs": [
    {
     "name": "stdout",
     "output_type": "stream",
     "text": [
      "12345\n"
     ]
    }
   ],
   "source": [
    "num = int(input())"
   ]
  },
  {
   "cell_type": "code",
   "execution_count": 43,
   "id": "8e7d1824",
   "metadata": {},
   "outputs": [
    {
     "name": "stdout",
     "output_type": "stream",
     "text": [
      "0\n"
     ]
    }
   ],
   "source": [
    "num =12345\n",
    "sum1 = 0\n",
    "\n",
    "print(sum1)"
   ]
  },
  {
   "cell_type": "code",
   "execution_count": 28,
   "id": "e232ca0a",
   "metadata": {},
   "outputs": [
    {
     "data": {
      "text/plain": [
       "5"
      ]
     },
     "execution_count": 28,
     "metadata": {},
     "output_type": "execute_result"
    }
   ],
   "source": [
    "num%10"
   ]
  },
  {
   "cell_type": "code",
   "execution_count": 30,
   "id": "351bba44",
   "metadata": {},
   "outputs": [
    {
     "data": {
      "text/plain": [
       "1234"
      ]
     },
     "execution_count": 30,
     "metadata": {},
     "output_type": "execute_result"
    }
   ],
   "source": [
    "num//10"
   ]
  },
  {
   "cell_type": "code",
   "execution_count": 44,
   "id": "cd047d16",
   "metadata": {},
   "outputs": [
    {
     "name": "stdout",
     "output_type": "stream",
     "text": [
      "0\n",
      "1234\n",
      "5\n",
      "123\n",
      "9\n",
      "12\n",
      "12\n",
      "1\n",
      "14\n",
      "0\n"
     ]
    }
   ],
   "source": [
    "while(num>0):\n",
    "    print(sum1)\n",
    "    sum1 +=num%10\n",
    "    num=num//10\n",
    "    print(num)"
   ]
  },
  {
   "cell_type": "code",
   "execution_count": 45,
   "id": "49de7ae4",
   "metadata": {},
   "outputs": [
    {
     "data": {
      "text/plain": [
       "15"
      ]
     },
     "execution_count": 45,
     "metadata": {},
     "output_type": "execute_result"
    }
   ],
   "source": [
    "sum1"
   ]
  },
  {
   "cell_type": "code",
   "execution_count": 70,
   "id": "45a1ba2f",
   "metadata": {},
   "outputs": [],
   "source": [
    "from datetime import date\n",
    "import time"
   ]
  },
  {
   "cell_type": "code",
   "execution_count": 95,
   "id": "4cc7cfa5",
   "metadata": {},
   "outputs": [],
   "source": [
    "def myDateLog(func):\n",
    "    def innerFunc(*args,**kwargs):\n",
    "        print(date.today())\n",
    "        return func(*args,**kwargs)\n",
    "    return innerFunc\n",
    "    "
   ]
  },
  {
   "cell_type": "code",
   "execution_count": 94,
   "id": "4a1a82e7",
   "metadata": {},
   "outputs": [],
   "source": [
    "def myTimeLog(func):\n",
    "    def innerFunc(*args,**kwargs):\n",
    "        start = time.time()\n",
    "        retval = func(*args,**kwargs)\n",
    "        end =time.time()\n",
    "        print(end-start)\n",
    "        return retval\n",
    "    return innerFunc"
   ]
  },
  {
   "cell_type": "code",
   "execution_count": 96,
   "id": "a9c8845e",
   "metadata": {},
   "outputs": [],
   "source": [
    "@myDateLog\n",
    "@myTimeLog\n",
    "def myAddFunc(a,b):\n",
    "    return a+b\n",
    "    "
   ]
  },
  {
   "cell_type": "code",
   "execution_count": 97,
   "id": "1b2388ae",
   "metadata": {},
   "outputs": [
    {
     "name": "stdout",
     "output_type": "stream",
     "text": [
      "2022-12-16\n",
      "9.5367431640625e-07\n"
     ]
    },
    {
     "data": {
      "text/plain": [
       "5"
      ]
     },
     "execution_count": 97,
     "metadata": {},
     "output_type": "execute_result"
    }
   ],
   "source": [
    "myAddFunc(2,3)"
   ]
  },
  {
   "cell_type": "code",
   "execution_count": 98,
   "id": "ebb3510a",
   "metadata": {},
   "outputs": [],
   "source": [
    "@myDateLog\n",
    "@myTimeLog\n",
    "def myListLength(ls):\n",
    "    return list(map(len, ls))\n",
    "    "
   ]
  },
  {
   "cell_type": "code",
   "execution_count": 100,
   "id": "3c736fc3",
   "metadata": {},
   "outputs": [
    {
     "name": "stdout",
     "output_type": "stream",
     "text": [
      "2022-12-16\n",
      "5.9604644775390625e-06\n",
      "[2, 4]\n"
     ]
    }
   ],
   "source": [
    "print(myListLength(['sr','iani']))"
   ]
  },
  {
   "cell_type": "code",
   "execution_count": 91,
   "id": "f979fc10",
   "metadata": {},
   "outputs": [
    {
     "data": {
      "text/plain": [
       "[2, 4]"
      ]
     },
     "execution_count": 91,
     "metadata": {},
     "output_type": "execute_result"
    }
   ],
   "source": [
    "\n",
    "list(map(len, ['sr','iani']\n",
    "   ))"
   ]
  },
  {
   "cell_type": "code",
   "execution_count": 101,
   "id": "15e6f097",
   "metadata": {},
   "outputs": [],
   "source": [
    "number_list = [10,20,60,30,20,40,30,60,70,80]"
   ]
  },
  {
   "cell_type": "code",
   "execution_count": 104,
   "id": "7e22ef29",
   "metadata": {},
   "outputs": [
    {
     "data": {
      "text/plain": [
       "[60, 60, 70, 80]"
      ]
     },
     "execution_count": 104,
     "metadata": {},
     "output_type": "execute_result"
    }
   ],
   "source": [
    "[i  for i in number_list if i > 50]"
   ]
  },
  {
   "cell_type": "code",
   "execution_count": 106,
   "id": "63b14a8e",
   "metadata": {},
   "outputs": [
    {
     "data": {
      "text/plain": [
       "[10, 20, 30, 20, 40, 30]"
      ]
     },
     "execution_count": 106,
     "metadata": {},
     "output_type": "execute_result"
    }
   ],
   "source": [
    "list(filter(lambda a : a <=50, number_list))"
   ]
  },
  {
   "cell_type": "code",
   "execution_count": 109,
   "id": "8da0882f",
   "metadata": {},
   "outputs": [],
   "source": [
    "sample_list = [10,20,60,30,20,40,30,60,70,80]\n",
    "myDict = {}\n",
    "\n",
    "for i in sample_list:\n",
    "    if(myDict.get(i) == None):\n",
    "        myDict[i] = 1\n",
    "    else:\n",
    "        myDict[i] = myDict[i]+1"
   ]
  },
  {
   "cell_type": "code",
   "execution_count": 111,
   "id": "10c9f0db",
   "metadata": {},
   "outputs": [
    {
     "data": {
      "text/plain": [
       "{10: 1, 20: 2, 60: 2, 30: 2, 40: 1, 70: 1, 80: 1}"
      ]
     },
     "execution_count": 111,
     "metadata": {},
     "output_type": "execute_result"
    }
   ],
   "source": [
    "myDict"
   ]
  },
  {
   "cell_type": "code",
   "execution_count": 119,
   "id": "506c40c8",
   "metadata": {},
   "outputs": [
    {
     "name": "stdout",
     "output_type": "stream",
     "text": [
      "20 60 30 "
     ]
    }
   ],
   "source": [
    "for item in myDict:\n",
    "    if myDict[item] > 1:\n",
    "        print(item, end = \" \")"
   ]
  },
  {
   "cell_type": "code",
   "execution_count": 131,
   "id": "6fb99bef",
   "metadata": {},
   "outputs": [],
   "source": [
    "@myDateLog\n",
    "@myTimeLog\n",
    "def outerFunc(firstName : str , secondName : str ):\n",
    "    def innerFunc(firstName : str , secondName : str):\n",
    "        print(firstName)\n",
    "        return firstName + secondName\n",
    "    return innerFunc(firstName , secondName ) + 'developer'"
   ]
  },
  {
   "cell_type": "code",
   "execution_count": 132,
   "id": "42e3fadb",
   "metadata": {
    "scrolled": true
   },
   "outputs": [
    {
     "name": "stdout",
     "output_type": "stream",
     "text": [
      "2022-12-18\n",
      "Emma\n",
      "0.00010609626770019531\n"
     ]
    },
    {
     "data": {
      "text/plain": [
       "'EmmaKellydeveloper'"
      ]
     },
     "execution_count": 132,
     "metadata": {},
     "output_type": "execute_result"
    }
   ],
   "source": [
    "outerFunc('Emma','Kelly')"
   ]
  },
  {
   "cell_type": "code",
   "execution_count": 134,
   "id": "745bdb23",
   "metadata": {},
   "outputs": [],
   "source": [
    "@myDateLog\n",
    "@myTimeLog\n",
    "def outerFunc(firstName : str , secondName : str ):\n",
    "    def innerFunc():\n",
    "        print(firstName)\n",
    "        return firstName + secondName\n",
    "    return innerFunc( ) + 'developer'"
   ]
  },
  {
   "cell_type": "code",
   "execution_count": 135,
   "id": "14d10503",
   "metadata": {},
   "outputs": [
    {
     "name": "stdout",
     "output_type": "stream",
     "text": [
      "2022-12-18\n",
      "Emma\n",
      "1.52587890625e-05\n"
     ]
    },
    {
     "data": {
      "text/plain": [
       "'EmmaKellydeveloper'"
      ]
     },
     "execution_count": 135,
     "metadata": {},
     "output_type": "execute_result"
    }
   ],
   "source": [
    "outerFunc('Emma','Kelly')"
   ]
  },
  {
   "cell_type": "markdown",
   "id": "6042efc5",
   "metadata": {},
   "source": [
    "## Flattening of lists - but this only does it to one level ##\n",
    "How do we flatten a list of list of list .... etc"
   ]
  },
  {
   "cell_type": "code",
   "execution_count": 139,
   "id": "3c660d4f",
   "metadata": {},
   "outputs": [
    {
     "name": "stdout",
     "output_type": "stream",
     "text": [
      "[1, 2, 3, 4, 5, 6, 7, 8, 9, 10]\n"
     ]
    }
   ],
   "source": [
    "import itertools\n",
    "\n",
    "Nested_list = [[1,2,3,4,5], [6,7,8], [9, 10]]\n",
    "\n",
    "flattened_list = list(itertools.chain(*Nested_list))\n",
    "print(flattened_list)"
   ]
  },
  {
   "cell_type": "code",
   "execution_count": 136,
   "id": "fac599e9",
   "metadata": {},
   "outputs": [
    {
     "name": "stdout",
     "output_type": "stream",
     "text": [
      "[1, 2, 3, 4, 5, 6, 7, 8, 9, 10, [11, 12]]\n"
     ]
    }
   ],
   "source": [
    "import itertools\n",
    "\n",
    "Nested_list = [[1,2,3,4,5], [6,7,8], [9, 10], [[11,12]]]\n",
    "\n",
    "flattened_list = list(itertools.chain(*Nested_list))\n",
    "print(flattened_list)"
   ]
  },
  {
   "cell_type": "code",
   "execution_count": 138,
   "id": "ca9a576a",
   "metadata": {},
   "outputs": [
    {
     "name": "stdout",
     "output_type": "stream",
     "text": [
      "[1, 2, 3, 4, 5, 6, 7, 8, 9, 10, [11, 12]]\n"
     ]
    }
   ],
   "source": [
    "from functools import reduce\n",
    "\n",
    "Nested_list = [[1,2,3,4,5], [6,7,8], [9, 10] , [[11,12]]]\n",
    "print(reduce(lambda a, b: a+b, Nested_list))\n"
   ]
  },
  {
   "cell_type": "code",
   "execution_count": 141,
   "id": "1573b36e",
   "metadata": {},
   "outputs": [
    {
     "name": "stdout",
     "output_type": "stream",
     "text": [
      "[1, 2, 3, 4, 5, 6, 7, 8, 9, 10]\n"
     ]
    }
   ],
   "source": [
    "Nested_list = [[1,2,3,4,5], [6,7,8], [9, 10]]\n",
    "flattend_list = [item for sublist in Nested_list for item in sublist]\n",
    "print(flattened_list)"
   ]
  },
  {
   "cell_type": "markdown",
   "id": "fa3a0f26",
   "metadata": {},
   "source": [
    "https://www.freecodecamp.org/news/list-comprehension-in-python-with-code-examples/"
   ]
  },
  {
   "cell_type": "code",
   "execution_count": 148,
   "id": "fe808678",
   "metadata": {},
   "outputs": [],
   "source": [
    "new_list = [num for num in range(50) if num > 20 and num % 5 ==0]"
   ]
  },
  {
   "cell_type": "code",
   "execution_count": 149,
   "id": "de09ea0b",
   "metadata": {
    "scrolled": true
   },
   "outputs": [
    {
     "name": "stdout",
     "output_type": "stream",
     "text": [
      "[25, 30, 35, 40, 45]\n"
     ]
    }
   ],
   "source": [
    "print(new_list)"
   ]
  },
  {
   "cell_type": "markdown",
   "id": "13bf5ec2",
   "metadata": {},
   "source": [
    "Remove duplicates , list comprehensions example below\n",
    "\n",
    "    https://www.geeksforgeeks.org/python-ways-to-remove-duplicates-from-list/"
   ]
  },
  {
   "cell_type": "code",
   "execution_count": 151,
   "id": "20247992",
   "metadata": {},
   "outputs": [
    {
     "name": "stdout",
     "output_type": "stream",
     "text": [
      "[1, 2, 3, 4]\n"
     ]
    }
   ],
   "source": [
    "l1 = [1,2,3,4,1,2,4]\n",
    "res = [*set(l1)]\n",
    "print(res)"
   ]
  },
  {
   "cell_type": "code",
   "execution_count": 154,
   "id": "77da640f",
   "metadata": {},
   "outputs": [
    {
     "data": {
      "text/plain": [
       "[1, 2, 3, 4, 1, 2, 4]"
      ]
     },
     "execution_count": 154,
     "metadata": {},
     "output_type": "execute_result"
    }
   ],
   "source": [
    "l1"
   ]
  },
  {
   "cell_type": "code",
   "execution_count": 172,
   "id": "84b4a1a2",
   "metadata": {},
   "outputs": [
    {
     "data": {
      "text/plain": [
       "[None, None, None, None]"
      ]
     },
     "execution_count": 172,
     "metadata": {},
     "output_type": "execute_result"
    }
   ],
   "source": [
    "res = []\n",
    "[res.append(x) for x in l1 if x not in res]"
   ]
  },
  {
   "cell_type": "code",
   "execution_count": 173,
   "id": "d43d1736",
   "metadata": {},
   "outputs": [
    {
     "name": "stdout",
     "output_type": "stream",
     "text": [
      "[None, None, None, None]\n"
     ]
    }
   ],
   "source": [
    "print(str(a))"
   ]
  },
  {
   "cell_type": "markdown",
   "id": "6dea44a5",
   "metadata": {},
   "source": [
    "Why None as an output "
   ]
  },
  {
   "cell_type": "code",
   "execution_count": 170,
   "id": "42d0e7bc",
   "metadata": {},
   "outputs": [
    {
     "name": "stdout",
     "output_type": "stream",
     "text": [
      "[1, 2, 3, 4]\n"
     ]
    }
   ],
   "source": [
    "retval = []\n",
    "for i in l1:\n",
    "    if i not in retval : \n",
    "        retval.append(i)\n",
    "\n",
    "print(retval)\n",
    "    "
   ]
  },
  {
   "cell_type": "code",
   "execution_count": 159,
   "id": "2387e26f",
   "metadata": {},
   "outputs": [
    {
     "data": {
      "text/plain": [
       "<enumerate at 0x7f9681460750>"
      ]
     },
     "execution_count": 159,
     "metadata": {},
     "output_type": "execute_result"
    }
   ],
   "source": [
    "enumerate(l1)"
   ]
  },
  {
   "cell_type": "code",
   "execution_count": 161,
   "id": "bd1b88aa",
   "metadata": {},
   "outputs": [
    {
     "name": "stdout",
     "output_type": "stream",
     "text": [
      "[(0, 1), (1, 2), (2, 3), (3, 4), (4, 1), (5, 2), (6, 4)]\n"
     ]
    }
   ],
   "source": [
    "print(list(enumerate(l1)))"
   ]
  },
  {
   "cell_type": "code",
   "execution_count": 162,
   "id": "82915487",
   "metadata": {},
   "outputs": [
    {
     "data": {
      "text/plain": [
       "[1, 2, 3, 4, 1, 2, 4]"
      ]
     },
     "execution_count": 162,
     "metadata": {},
     "output_type": "execute_result"
    }
   ],
   "source": [
    "l1[:7]"
   ]
  },
  {
   "cell_type": "code",
   "execution_count": 163,
   "id": "71aa7ef4",
   "metadata": {},
   "outputs": [
    {
     "data": {
      "text/plain": [
       "[1, 2, 3]"
      ]
     },
     "execution_count": 163,
     "metadata": {},
     "output_type": "execute_result"
    }
   ],
   "source": [
    "l1[:3]"
   ]
  },
  {
   "cell_type": "code",
   "execution_count": 168,
   "id": "6c2e5dae",
   "metadata": {},
   "outputs": [
    {
     "name": "stdout",
     "output_type": "stream",
     "text": [
      "0 1\n",
      "1 2\n",
      "2 3\n",
      "3 4\n",
      "4 1\n",
      "5 2\n",
      "6 4\n"
     ]
    }
   ],
   "source": [
    "for count,num in enumerate(l1):\n",
    "    print(str(count) + \" \"+ str(num))"
   ]
  },
  {
   "cell_type": "code",
   "execution_count": 169,
   "id": "9c480c37",
   "metadata": {},
   "outputs": [
    {
     "name": "stdout",
     "output_type": "stream",
     "text": [
      "0 1\n",
      "1 2\n",
      "2 3\n",
      "3 4\n",
      "4 1\n",
      "5 2\n",
      "6 4\n"
     ]
    }
   ],
   "source": [
    "for c,n in enumerate(l1):\n",
    "    print(str(c) + \" \"+ str(n))"
   ]
  },
  {
   "cell_type": "markdown",
   "id": "000d8c86",
   "metadata": {},
   "source": [
    "Print the sum of the previous and current number "
   ]
  },
  {
   "cell_type": "code",
   "execution_count": 178,
   "id": "ce95aaaa",
   "metadata": {},
   "outputs": [
    {
     "name": "stdout",
     "output_type": "stream",
     "text": [
      "sum of current number 1 and previous number 0 is 1\n",
      "sum of current number 2 and previous number 1 is 3\n",
      "sum of current number 3 and previous number 2 is 5\n",
      "sum of current number 4 and previous number 3 is 7\n",
      "sum of current number 5 and previous number 4 is 9\n",
      "sum of current number 6 and previous number 5 is 11\n",
      "sum of current number 7 and previous number 6 is 13\n",
      "sum of current number 8 and previous number 7 is 15\n",
      "sum of current number 9 and previous number 8 is 17\n",
      "sum of current number 10 and previous number 9 is 19\n"
     ]
    }
   ],
   "source": [
    "s = 0\n",
    "pre = 0\n",
    "for i in range(1,11):\n",
    "    print(\"sum of current number \" + str(i) + \" and previous number \"+ str(pre) + \" is \" + str(i + pre) )\n",
    "    pre = i\n",
    "    "
   ]
  },
  {
   "cell_type": "code",
   "execution_count": 180,
   "id": "1dfb12bc",
   "metadata": {},
   "outputs": [
    {
     "name": "stdout",
     "output_type": "stream",
     "text": [
      "Current Number 1 Previous Number 0 Sum: 1\n",
      "Current Number 2 Previous Number 1 Sum: 3\n",
      "Current Number 3 Previous Number 2 Sum: 5\n",
      "Current Number 4 Previous Number 3 Sum: 7\n",
      "Current Number 5 Previous Number 4 Sum: 9\n",
      "Current Number 6 Previous Number 5 Sum: 11\n",
      "Current Number 7 Previous Number 6 Sum: 13\n",
      "Current Number 8 Previous Number 7 Sum: 15\n",
      "Current Number 9 Previous Number 8 Sum: 17\n"
     ]
    }
   ],
   "source": [
    "s = 0 \n",
    "pre = 0 \n",
    "for i in range(1,10):\n",
    "    s = i + pre\n",
    "    print(f\"Current Number {i} Previous Number {pre} Sum: {s}\" )\n",
    "    pre = i"
   ]
  },
  {
   "cell_type": "code",
   "execution_count": 181,
   "id": "bce755dd",
   "metadata": {},
   "outputs": [
    {
     "name": "stdout",
     "output_type": "stream",
     "text": [
      "A\n",
      "i\n",
      "e\n",
      "h\n"
     ]
    },
    {
     "data": {
      "text/plain": [
       "[None, None, None, None]"
      ]
     },
     "execution_count": 181,
     "metadata": {},
     "output_type": "execute_result"
    }
   ],
   "source": [
    "[ print(i) for n, i in enumerate(\"Animesh\") if n % 2 == 0]"
   ]
  }
 ],
 "metadata": {
  "kernelspec": {
   "display_name": "Python 3",
   "language": "python",
   "name": "python3"
  },
  "language_info": {
   "codemirror_mode": {
    "name": "ipython",
    "version": 3
   },
   "file_extension": ".py",
   "mimetype": "text/x-python",
   "name": "python",
   "nbconvert_exporter": "python",
   "pygments_lexer": "ipython3",
   "version": "3.6.5"
  }
 },
 "nbformat": 4,
 "nbformat_minor": 5
}
